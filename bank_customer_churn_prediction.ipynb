{
  "nbformat": 4,
  "nbformat_minor": 0,
  "metadata": {
    "colab": {
      "name": "bank customer churn prediction.ipynb",
      "provenance": [],
      "collapsed_sections": [
        "aPCfXPsKo4Lo"
      ],
      "toc_visible": true,
      "authorship_tag": "ABX9TyOMMq4EEtu2YbI3FXzcpvXX",
      "include_colab_link": true
    },
    "kernelspec": {
      "display_name": "Python 3",
      "name": "python3"
    },
    "language_info": {
      "name": "python"
    }
  },
  "cells": [
    {
      "cell_type": "markdown",
      "metadata": {
        "id": "view-in-github",
        "colab_type": "text"
      },
      "source": [
        "<a href=\"https://colab.research.google.com/github/zcheng233/imbalanced-classfication-bank-customer-churn-prediction/blob/main/bank_customer_churn_prediction.ipynb\" target=\"_parent\"><img src=\"https://colab.research.google.com/assets/colab-badge.svg\" alt=\"Open In Colab\"/></a>"
      ]
    },
    {
      "cell_type": "markdown",
      "metadata": {
        "id": "Emk4FjuJNTtE"
      },
      "source": [
        "# Imbalance Classfication Case - Banking Customer Churn Prediction \n",
        " \n",
        "  This project is an example of handling imbalanced classification problem. \n",
        "\n",
        "  The goal of this particular task is to:  \n",
        "1) develop algorithms to identify customers who are likely to churn in the future;  \n",
        "  2) analyze top factors that influence user retention;  \n",
        "  3) interpret results and give business suggestions accordingly.\n",
        "\n",
        "- Main take away:\n",
        "    - Handling imbalanced classfication problem by stratified sampling and **SMOTE**, which enhanced ~50% of model performance.\n",
        "    - Select **recall** as the most suitable metrics for this specific project, achieving best recall of 69.74% by XGBoost\n",
        "    - 5 Most important factors:   \n",
        "        - **Age**: older customer are more likely to churn;  \n",
        "        -  **NumOfProducts**: churn customer tend to use more products;  \n",
        "        - **Gender**: female are more likely to churn;   \n",
        "        - **Geography**: Customer from Germany are more likely to churn;  \n",
        "        - **IsActiveMember**: Non active members are more likely to churn.  \n",
        "    - Business Suggestions: See [Part 6 Conclusion - Main suggestions](#part6-suggest) \n",
        "    "
      ]
    },
    {
      "cell_type": "markdown",
      "metadata": {
        "id": "neBgjeV5Ntc1"
      },
      "source": [
        "# Table of Contents\n",
        "- [Part 1: Data Exploration](#part1)\n",
        "- [Part 2: Feature Preprocessing](#part2)\n",
        "- [Part 3: Model Training and Tuning](#part3)\n",
        "- [Part 4: Model Evaluation](#part4)\n",
        "- [Part 5: Feature Importance Discussion](#part5)\n",
        "- [Part 6: Conclusion](#part6) "
      ]
    },
    {
      "cell_type": "markdown",
      "metadata": {
        "id": "lJ2BG9_2Nx5C"
      },
      "source": [
        "# Part 0 Setup environment and load data from Google drive\n",
        "The dataset used is a bank customer churn data. Check out [dataset information](https://www.kaggle.com/adammaus/predicting-churn-for-bank-customers) here on kaggle.\n",
        "\n",
        "For more information on loading data from Google drive, check this [link](https://colab.research.google.com/notebooks/io.ipynb) here.\n"
      ]
    },
    {
      "cell_type": "code",
      "metadata": {
        "id": "EdmoCfb-9xFn"
      },
      "source": [
        "from pydrive.auth import GoogleAuth\n",
        "from pydrive.drive import GoogleDrive\n",
        "from google.colab import auth\n",
        "from oauth2client.client import GoogleCredentials\n",
        "import pandas as pd\n",
        "import numpy as np\n",
        "import matplotlib.pyplot as plt\n",
        "import seaborn as sns\n",
        "from sklearn import model_selection\n",
        "from sklearn.preprocessing import OneHotEncoder, OrdinalEncoder, StandardScaler\n",
        "from sklearn.model_selection import train_test_split, GridSearchCV, RandomizedSearchCV\n",
        "\n",
        "from imblearn.pipeline import Pipeline\n",
        "from imblearn.over_sampling import SMOTE\n",
        "#import sklearn.preprocessing as preprocessing\n",
        "from sklearn.linear_model import LogisticRegression\n",
        "from sklearn.ensemble import RandomForestClassifier\n",
        "from sklearn import metrics\n",
        "from sklearn.metrics import confusion_matrix, accuracy_score, precision_score, recall_score, f1_score, make_scorer\n",
        "\n",
        "from xgboost import XGBClassifier\n",
        "from sklearn.neighbors import KNeighborsClassifier "
      ],
      "execution_count": 206,
      "outputs": []
    },
    {
      "cell_type": "code",
      "metadata": {
        "id": "ZkRSCxXsNlvg"
      },
      "source": [
        "#https://drive.google.com/file/d/1szdCZ98EK59cfJ4jG03g1HOv_OhC1oyN/view?usp=sharing\n",
        "auth.authenticate_user()\n",
        "gauth = GoogleAuth()\n",
        "gauth.credentials = GoogleCredentials.get_application_default()\n",
        "drive = GoogleDrive(gauth)\n",
        "id = \"1szdCZ98EK59cfJ4jG03g1HOv_OhC1oyN\"\n",
        "file = drive.CreateFile({'id':id}) \n",
        "file.GetContentFile('bank_churn.csv')"
      ],
      "execution_count": 207,
      "outputs": []
    },
    {
      "cell_type": "code",
      "metadata": {
        "colab": {
          "base_uri": "https://localhost:8080/",
          "height": 224
        },
        "id": "Wkg83Cd5-BT5",
        "outputId": "2768d3f5-9fbb-4cb6-9a6a-e7298f563286"
      },
      "source": [
        "df = pd.read_csv('bank_churn.csv')\n",
        "df.head()"
      ],
      "execution_count": 208,
      "outputs": [
        {
          "output_type": "execute_result",
          "data": {
            "text/html": [
              "<div>\n",
              "<style scoped>\n",
              "    .dataframe tbody tr th:only-of-type {\n",
              "        vertical-align: middle;\n",
              "    }\n",
              "\n",
              "    .dataframe tbody tr th {\n",
              "        vertical-align: top;\n",
              "    }\n",
              "\n",
              "    .dataframe thead th {\n",
              "        text-align: right;\n",
              "    }\n",
              "</style>\n",
              "<table border=\"1\" class=\"dataframe\">\n",
              "  <thead>\n",
              "    <tr style=\"text-align: right;\">\n",
              "      <th></th>\n",
              "      <th>RowNumber</th>\n",
              "      <th>CustomerId</th>\n",
              "      <th>Surname</th>\n",
              "      <th>CreditScore</th>\n",
              "      <th>Geography</th>\n",
              "      <th>Gender</th>\n",
              "      <th>Age</th>\n",
              "      <th>Tenure</th>\n",
              "      <th>Balance</th>\n",
              "      <th>NumOfProducts</th>\n",
              "      <th>HasCrCard</th>\n",
              "      <th>IsActiveMember</th>\n",
              "      <th>EstimatedSalary</th>\n",
              "      <th>Exited</th>\n",
              "    </tr>\n",
              "  </thead>\n",
              "  <tbody>\n",
              "    <tr>\n",
              "      <th>0</th>\n",
              "      <td>1</td>\n",
              "      <td>15634602</td>\n",
              "      <td>Hargrave</td>\n",
              "      <td>619</td>\n",
              "      <td>France</td>\n",
              "      <td>Female</td>\n",
              "      <td>42</td>\n",
              "      <td>2</td>\n",
              "      <td>0.00</td>\n",
              "      <td>1</td>\n",
              "      <td>1</td>\n",
              "      <td>1</td>\n",
              "      <td>101348.88</td>\n",
              "      <td>1</td>\n",
              "    </tr>\n",
              "    <tr>\n",
              "      <th>1</th>\n",
              "      <td>2</td>\n",
              "      <td>15647311</td>\n",
              "      <td>Hill</td>\n",
              "      <td>608</td>\n",
              "      <td>Spain</td>\n",
              "      <td>Female</td>\n",
              "      <td>41</td>\n",
              "      <td>1</td>\n",
              "      <td>83807.86</td>\n",
              "      <td>1</td>\n",
              "      <td>0</td>\n",
              "      <td>1</td>\n",
              "      <td>112542.58</td>\n",
              "      <td>0</td>\n",
              "    </tr>\n",
              "    <tr>\n",
              "      <th>2</th>\n",
              "      <td>3</td>\n",
              "      <td>15619304</td>\n",
              "      <td>Onio</td>\n",
              "      <td>502</td>\n",
              "      <td>France</td>\n",
              "      <td>Female</td>\n",
              "      <td>42</td>\n",
              "      <td>8</td>\n",
              "      <td>159660.80</td>\n",
              "      <td>3</td>\n",
              "      <td>1</td>\n",
              "      <td>0</td>\n",
              "      <td>113931.57</td>\n",
              "      <td>1</td>\n",
              "    </tr>\n",
              "    <tr>\n",
              "      <th>3</th>\n",
              "      <td>4</td>\n",
              "      <td>15701354</td>\n",
              "      <td>Boni</td>\n",
              "      <td>699</td>\n",
              "      <td>France</td>\n",
              "      <td>Female</td>\n",
              "      <td>39</td>\n",
              "      <td>1</td>\n",
              "      <td>0.00</td>\n",
              "      <td>2</td>\n",
              "      <td>0</td>\n",
              "      <td>0</td>\n",
              "      <td>93826.63</td>\n",
              "      <td>0</td>\n",
              "    </tr>\n",
              "    <tr>\n",
              "      <th>4</th>\n",
              "      <td>5</td>\n",
              "      <td>15737888</td>\n",
              "      <td>Mitchell</td>\n",
              "      <td>850</td>\n",
              "      <td>Spain</td>\n",
              "      <td>Female</td>\n",
              "      <td>43</td>\n",
              "      <td>2</td>\n",
              "      <td>125510.82</td>\n",
              "      <td>1</td>\n",
              "      <td>1</td>\n",
              "      <td>1</td>\n",
              "      <td>79084.10</td>\n",
              "      <td>0</td>\n",
              "    </tr>\n",
              "  </tbody>\n",
              "</table>\n",
              "</div>"
            ],
            "text/plain": [
              "   RowNumber  CustomerId   Surname  ...  IsActiveMember EstimatedSalary Exited\n",
              "0          1    15634602  Hargrave  ...               1       101348.88      1\n",
              "1          2    15647311      Hill  ...               1       112542.58      0\n",
              "2          3    15619304      Onio  ...               0       113931.57      1\n",
              "3          4    15701354      Boni  ...               0        93826.63      0\n",
              "4          5    15737888  Mitchell  ...               1        79084.10      0\n",
              "\n",
              "[5 rows x 14 columns]"
            ]
          },
          "metadata": {},
          "execution_count": 208
        }
      ]
    },
    {
      "cell_type": "markdown",
      "metadata": {
        "id": "S1qx4DsB-Gis"
      },
      "source": [
        "<a name=\"part1\"></a>\n",
        "# Part 1 Data Exploration\n",
        "\n"
      ]
    },
    {
      "cell_type": "markdown",
      "metadata": {
        "id": "wARHw5GK-NaD"
      },
      "source": [
        "## 1.1 Understand Raw Dataset"
      ]
    },
    {
      "cell_type": "code",
      "metadata": {
        "colab": {
          "base_uri": "https://localhost:8080/"
        },
        "id": "3q4gnxJi-Q3u",
        "outputId": "39431720-e50a-4655-bc79-6a6ba4b66d6f"
      },
      "source": [
        "df.info()"
      ],
      "execution_count": 209,
      "outputs": [
        {
          "output_type": "stream",
          "name": "stdout",
          "text": [
            "<class 'pandas.core.frame.DataFrame'>\n",
            "RangeIndex: 10000 entries, 0 to 9999\n",
            "Data columns (total 14 columns):\n",
            " #   Column           Non-Null Count  Dtype  \n",
            "---  ------           --------------  -----  \n",
            " 0   RowNumber        10000 non-null  int64  \n",
            " 1   CustomerId       10000 non-null  int64  \n",
            " 2   Surname          10000 non-null  object \n",
            " 3   CreditScore      10000 non-null  int64  \n",
            " 4   Geography        10000 non-null  object \n",
            " 5   Gender           10000 non-null  object \n",
            " 6   Age              10000 non-null  int64  \n",
            " 7   Tenure           10000 non-null  int64  \n",
            " 8   Balance          10000 non-null  float64\n",
            " 9   NumOfProducts    10000 non-null  int64  \n",
            " 10  HasCrCard        10000 non-null  int64  \n",
            " 11  IsActiveMember   10000 non-null  int64  \n",
            " 12  EstimatedSalary  10000 non-null  float64\n",
            " 13  Exited           10000 non-null  int64  \n",
            "dtypes: float64(2), int64(9), object(3)\n",
            "memory usage: 1.1+ MB\n"
          ]
        }
      ]
    },
    {
      "cell_type": "code",
      "metadata": {
        "colab": {
          "base_uri": "https://localhost:8080/"
        },
        "id": "B3mRPgX_-Jyh",
        "outputId": "2cf33a67-15cc-4c24-a0e0-587ffaacb423"
      },
      "source": [
        "#check errorneous data: we must remove duplicates if exists\n",
        "if df.duplicated().sum()==0:\n",
        "    print('no duplicate')"
      ],
      "execution_count": 210,
      "outputs": [
        {
          "output_type": "stream",
          "name": "stdout",
          "text": [
            "no duplicate\n"
          ]
        }
      ]
    },
    {
      "cell_type": "code",
      "metadata": {
        "colab": {
          "base_uri": "https://localhost:8080/"
        },
        "id": "rd8Li0rw-Vno",
        "outputId": "74e938d1-83d6-4fec-b531-201caa283989"
      },
      "source": [
        "df.nunique()"
      ],
      "execution_count": 211,
      "outputs": [
        {
          "output_type": "execute_result",
          "data": {
            "text/plain": [
              "RowNumber          10000\n",
              "CustomerId         10000\n",
              "Surname             2932\n",
              "CreditScore          460\n",
              "Geography              3\n",
              "Gender                 2\n",
              "Age                   70\n",
              "Tenure                11\n",
              "Balance             6382\n",
              "NumOfProducts          4\n",
              "HasCrCard              2\n",
              "IsActiveMember         2\n",
              "EstimatedSalary     9999\n",
              "Exited                 2\n",
              "dtype: int64"
            ]
          },
          "metadata": {},
          "execution_count": 211
        }
      ]
    },
    {
      "cell_type": "code",
      "metadata": {
        "colab": {
          "base_uri": "https://localhost:8080/"
        },
        "id": "Bj4SyHOW3q87",
        "outputId": "233e8a0d-68e7-4309-b142-498a3463f025"
      },
      "source": [
        "# check missing values\n",
        "df.isnull().sum()"
      ],
      "execution_count": 212,
      "outputs": [
        {
          "output_type": "execute_result",
          "data": {
            "text/plain": [
              "RowNumber          0\n",
              "CustomerId         0\n",
              "Surname            0\n",
              "CreditScore        0\n",
              "Geography          0\n",
              "Gender             0\n",
              "Age                0\n",
              "Tenure             0\n",
              "Balance            0\n",
              "NumOfProducts      0\n",
              "HasCrCard          0\n",
              "IsActiveMember     0\n",
              "EstimatedSalary    0\n",
              "Exited             0\n",
              "dtype: int64"
            ]
          },
          "metadata": {},
          "execution_count": 212
        }
      ]
    },
    {
      "cell_type": "markdown",
      "metadata": {
        "id": "3tHBUDNwuexS"
      },
      "source": [
        "- Overview  \n",
        "The dataset has 10000 observations on 14 variables.  Since the size of data is not very large, we can just use the form of pandas dataframe for this task.  \n",
        "We can see there's no explicit missing value in original data nor errorneous duplicated data as there're unique CustomerId for each entry. The numercial and categorical variables are in correct dtype as well.  \n",
        "\n",
        "However, we still need to check if there's any certain value that indicate missing values implicitly in the dataset.  \n",
        "\n"
      ]
    },
    {
      "cell_type": "code",
      "metadata": {
        "colab": {
          "base_uri": "https://localhost:8080/",
          "height": 390
        },
        "id": "_-mrWUbt-bmL",
        "outputId": "5423e7d7-6f55-4a38-89ff-ecfadfba1cfa"
      },
      "source": [
        "#descriptive statistics of numerical var\n",
        "pd.options.display.float_format = '{:.2f}'.format\n",
        "df.describe().transpose()"
      ],
      "execution_count": 213,
      "outputs": [
        {
          "output_type": "execute_result",
          "data": {
            "text/html": [
              "<div>\n",
              "<style scoped>\n",
              "    .dataframe tbody tr th:only-of-type {\n",
              "        vertical-align: middle;\n",
              "    }\n",
              "\n",
              "    .dataframe tbody tr th {\n",
              "        vertical-align: top;\n",
              "    }\n",
              "\n",
              "    .dataframe thead th {\n",
              "        text-align: right;\n",
              "    }\n",
              "</style>\n",
              "<table border=\"1\" class=\"dataframe\">\n",
              "  <thead>\n",
              "    <tr style=\"text-align: right;\">\n",
              "      <th></th>\n",
              "      <th>count</th>\n",
              "      <th>mean</th>\n",
              "      <th>std</th>\n",
              "      <th>min</th>\n",
              "      <th>25%</th>\n",
              "      <th>50%</th>\n",
              "      <th>75%</th>\n",
              "      <th>max</th>\n",
              "    </tr>\n",
              "  </thead>\n",
              "  <tbody>\n",
              "    <tr>\n",
              "      <th>RowNumber</th>\n",
              "      <td>10000.00</td>\n",
              "      <td>5000.50</td>\n",
              "      <td>2886.90</td>\n",
              "      <td>1.00</td>\n",
              "      <td>2500.75</td>\n",
              "      <td>5000.50</td>\n",
              "      <td>7500.25</td>\n",
              "      <td>10000.00</td>\n",
              "    </tr>\n",
              "    <tr>\n",
              "      <th>CustomerId</th>\n",
              "      <td>10000.00</td>\n",
              "      <td>15690940.57</td>\n",
              "      <td>71936.19</td>\n",
              "      <td>15565701.00</td>\n",
              "      <td>15628528.25</td>\n",
              "      <td>15690738.00</td>\n",
              "      <td>15753233.75</td>\n",
              "      <td>15815690.00</td>\n",
              "    </tr>\n",
              "    <tr>\n",
              "      <th>CreditScore</th>\n",
              "      <td>10000.00</td>\n",
              "      <td>650.53</td>\n",
              "      <td>96.65</td>\n",
              "      <td>350.00</td>\n",
              "      <td>584.00</td>\n",
              "      <td>652.00</td>\n",
              "      <td>718.00</td>\n",
              "      <td>850.00</td>\n",
              "    </tr>\n",
              "    <tr>\n",
              "      <th>Age</th>\n",
              "      <td>10000.00</td>\n",
              "      <td>38.92</td>\n",
              "      <td>10.49</td>\n",
              "      <td>18.00</td>\n",
              "      <td>32.00</td>\n",
              "      <td>37.00</td>\n",
              "      <td>44.00</td>\n",
              "      <td>92.00</td>\n",
              "    </tr>\n",
              "    <tr>\n",
              "      <th>Tenure</th>\n",
              "      <td>10000.00</td>\n",
              "      <td>5.01</td>\n",
              "      <td>2.89</td>\n",
              "      <td>0.00</td>\n",
              "      <td>3.00</td>\n",
              "      <td>5.00</td>\n",
              "      <td>7.00</td>\n",
              "      <td>10.00</td>\n",
              "    </tr>\n",
              "    <tr>\n",
              "      <th>Balance</th>\n",
              "      <td>10000.00</td>\n",
              "      <td>76485.89</td>\n",
              "      <td>62397.41</td>\n",
              "      <td>0.00</td>\n",
              "      <td>0.00</td>\n",
              "      <td>97198.54</td>\n",
              "      <td>127644.24</td>\n",
              "      <td>250898.09</td>\n",
              "    </tr>\n",
              "    <tr>\n",
              "      <th>NumOfProducts</th>\n",
              "      <td>10000.00</td>\n",
              "      <td>1.53</td>\n",
              "      <td>0.58</td>\n",
              "      <td>1.00</td>\n",
              "      <td>1.00</td>\n",
              "      <td>1.00</td>\n",
              "      <td>2.00</td>\n",
              "      <td>4.00</td>\n",
              "    </tr>\n",
              "    <tr>\n",
              "      <th>HasCrCard</th>\n",
              "      <td>10000.00</td>\n",
              "      <td>0.71</td>\n",
              "      <td>0.46</td>\n",
              "      <td>0.00</td>\n",
              "      <td>0.00</td>\n",
              "      <td>1.00</td>\n",
              "      <td>1.00</td>\n",
              "      <td>1.00</td>\n",
              "    </tr>\n",
              "    <tr>\n",
              "      <th>IsActiveMember</th>\n",
              "      <td>10000.00</td>\n",
              "      <td>0.52</td>\n",
              "      <td>0.50</td>\n",
              "      <td>0.00</td>\n",
              "      <td>0.00</td>\n",
              "      <td>1.00</td>\n",
              "      <td>1.00</td>\n",
              "      <td>1.00</td>\n",
              "    </tr>\n",
              "    <tr>\n",
              "      <th>EstimatedSalary</th>\n",
              "      <td>10000.00</td>\n",
              "      <td>100090.24</td>\n",
              "      <td>57510.49</td>\n",
              "      <td>11.58</td>\n",
              "      <td>51002.11</td>\n",
              "      <td>100193.91</td>\n",
              "      <td>149388.25</td>\n",
              "      <td>199992.48</td>\n",
              "    </tr>\n",
              "    <tr>\n",
              "      <th>Exited</th>\n",
              "      <td>10000.00</td>\n",
              "      <td>0.20</td>\n",
              "      <td>0.40</td>\n",
              "      <td>0.00</td>\n",
              "      <td>0.00</td>\n",
              "      <td>0.00</td>\n",
              "      <td>0.00</td>\n",
              "      <td>1.00</td>\n",
              "    </tr>\n",
              "  </tbody>\n",
              "</table>\n",
              "</div>"
            ],
            "text/plain": [
              "                   count        mean  ...         75%         max\n",
              "RowNumber       10000.00     5000.50  ...     7500.25    10000.00\n",
              "CustomerId      10000.00 15690940.57  ... 15753233.75 15815690.00\n",
              "CreditScore     10000.00      650.53  ...      718.00      850.00\n",
              "Age             10000.00       38.92  ...       44.00       92.00\n",
              "Tenure          10000.00        5.01  ...        7.00       10.00\n",
              "Balance         10000.00    76485.89  ...   127644.24   250898.09\n",
              "NumOfProducts   10000.00        1.53  ...        2.00        4.00\n",
              "HasCrCard       10000.00        0.71  ...        1.00        1.00\n",
              "IsActiveMember  10000.00        0.52  ...        1.00        1.00\n",
              "EstimatedSalary 10000.00   100090.24  ...   149388.25   199992.48\n",
              "Exited          10000.00        0.20  ...        0.00        1.00\n",
              "\n",
              "[11 rows x 8 columns]"
            ]
          },
          "metadata": {},
          "execution_count": 213
        }
      ]
    },
    {
      "cell_type": "code",
      "metadata": {
        "colab": {
          "base_uri": "https://localhost:8080/"
        },
        "id": "2NDvjYcFvxPw",
        "outputId": "e226d631-2ace-4d18-f573-107d746ebf99"
      },
      "source": [
        "#compute zero ratios of covariates\n",
        "zeros = df[df == 0].count(axis=0)/len(df.index)\n",
        "print(zeros.sort_values(ascending=False))"
      ],
      "execution_count": 214,
      "outputs": [
        {
          "output_type": "stream",
          "name": "stdout",
          "text": [
            "Exited            0.80\n",
            "IsActiveMember    0.48\n",
            "Balance           0.36\n",
            "HasCrCard         0.29\n",
            "Tenure            0.04\n",
            "EstimatedSalary   0.00\n",
            "NumOfProducts     0.00\n",
            "Age               0.00\n",
            "Gender            0.00\n",
            "Geography         0.00\n",
            "CreditScore       0.00\n",
            "Surname           0.00\n",
            "CustomerId        0.00\n",
            "RowNumber         0.00\n",
            "dtype: float64\n"
          ]
        }
      ]
    },
    {
      "cell_type": "markdown",
      "metadata": {
        "id": "G9wXVxXIviN3"
      },
      "source": [
        "We can see that the variable ranges are reasonable, with no negative values and min value is zero. Since zeros have meaning in our variables, it cannot be null indicator, although some features have high zero ratio.   \n",
        " Thus there's no missing value in this dataset."
      ]
    },
    {
      "cell_type": "markdown",
      "metadata": {
        "id": "QrKYFUgdqOHb"
      },
      "source": [
        "##1.2 Understand the response feature"
      ]
    },
    {
      "cell_type": "code",
      "metadata": {
        "id": "44N33LUC3c-4"
      },
      "source": [
        "# get the target variable\n",
        "y = df['Exited']"
      ],
      "execution_count": 215,
      "outputs": []
    },
    {
      "cell_type": "code",
      "metadata": {
        "colab": {
          "base_uri": "https://localhost:8080/",
          "height": 295
        },
        "id": "KrMMt8iK-jSI",
        "outputId": "6a67ee86-79ec-409e-f899-2f10c53a6111"
      },
      "source": [
        "plt.figure(figsize=(3, 4))\n",
        "sns.countplot(data=df, x='Exited')\n",
        "plt.title('Histograms of Churn customers')\n",
        "plt.show()"
      ],
      "execution_count": 216,
      "outputs": [
        {
          "output_type": "display_data",
          "data": {
            "image/png": "[encoded data removed]",
            "text/plain": [
              "<Figure size 216x288 with 1 Axes>"
            ]
          },
          "metadata": {
            "needs_background": "light"
          }
        }
      ]
    },
    {
      "cell_type": "markdown",
      "metadata": {
        "id": "Z3hicSPbBvmo"
      },
      "source": [
        "Here we can see the response label has a very imbalanced distribution. This is a common problem in real life when dealing with customer churn prediction, credit risk detection, anomaly fraud detection, etc. (Though cases can vary on their extent, like in some extreme cases we haven't observed anomaly in our training dataset)  \n",
        "\n",
        "The problems of imbalanced data that needs to be addressed are:   \n",
        " 1) common metrics may not be suitable to evalute the model (eg. accuracy would be a bad choice);  \n",
        "2) We may not have enough training sample for positive lables, thus our model will study more on negative labels but not good for positive labels.\n"
      ]
    },
    {
      "cell_type": "markdown",
      "metadata": {
        "id": "-jm9TmHPqWvL"
      },
      "source": [
        "##1.3 Understand numerical features"
      ]
    },
    {
      "cell_type": "code",
      "metadata": {
        "id": "sJYkyuHP331E"
      },
      "source": [
        "#df.columns\n",
        "#['RowNumber', 'CustomerId', 'Surname', 'CreditScore', 'Geography',\n",
        "#       'Gender', 'Age', 'Tenure', 'Balance', 'NumOfProducts', 'HasCrCard',\n",
        "#       'IsActiveMember', 'EstimatedSalary', 'Exited']"
      ],
      "execution_count": 217,
      "outputs": []
    },
    {
      "cell_type": "code",
      "metadata": {
        "colab": {
          "base_uri": "https://localhost:8080/",
          "height": 503
        },
        "id": "DVTffOPC5M6e",
        "outputId": "780a4838-98c2-4f3f-89e3-1875d6ebe83a"
      },
      "source": [
        "# boxplot for numerical features\n",
        "# since the two groups are unbalanced, we prefer boxplot over histogram for better visualization\n",
        "\n",
        "_,axss = plt.subplots(2,3, figsize=[20,10])\n",
        "sns.boxplot(x='Exited', y ='CreditScore', data=df, ax=axss[0][0])\n",
        "sns.boxplot(x='Exited', y ='Age', data=df, ax=axss[0][1])\n",
        "sns.boxplot(x='Exited', y ='Tenure', data=df, ax=axss[0][2])\n",
        "sns.boxplot(x='Exited', y ='Balance', data=df, ax=axss[1][0])\n",
        "sns.boxplot(x='Exited', y ='NumOfProducts', data=df, ax=axss[1][1])\n",
        "sns.boxplot(x='Exited', y ='EstimatedSalary', data=df, ax=axss[1][2])\n",
        "plt.show()"
      ],
      "execution_count": 218,
      "outputs": [
        {
          "output_type": "display_data",
          "data": {
            "image/png": "[encoded data removed]",
            "text/plain": [
              "<Figure size 1440x720 with 6 Axes>"
            ]
          },
          "metadata": {
            "needs_background": "light"
          }
        }
      ]
    },
    {
      "cell_type": "markdown",
      "metadata": {
        "id": "BTchHMCuDv3_"
      },
      "source": [
        "\n",
        "There are six numerical features in the dataset. We can roughly get some ideas on possible features that seems different in distribution in the remained and exited customers through these plots, and thus might be important for modeling later.  \n",
        "1. `Age` for the remained customer seems younger than the exited.\n",
        "2. The exited seems to have a larger range of `Tenure`, but their mean are about the same.\n",
        "3. `Balance` for the remained seems to be lower, especially at the zero end.\n",
        "4. Other features seems similar in two groups in their distribution plots."
      ]
    },
    {
      "cell_type": "code",
      "metadata": {
        "colab": {
          "base_uri": "https://localhost:8080/",
          "height": 341
        },
        "id": "IlgjuKBR5xct",
        "outputId": "90ce3617-2c2f-4519-f94d-db2a6fbc22ac"
      },
      "source": [
        "#correlation between features\n",
        "corr = df[['CreditScore', 'Age',\n",
        "       'Tenure', 'Balance', 'NumOfProducts',\n",
        "       'EstimatedSalary', 'Exited']].corr()\n",
        "sns.heatmap(corr, cmap='GnBu')\n",
        "plt.show()"
      ],
      "execution_count": 219,
      "outputs": [
        {
          "output_type": "display_data",
          "data": {
            "image/png": "[encoded data removed]",
            "text/plain": [
              "<Figure size 432x288 with 2 Axes>"
            ]
          },
          "metadata": {
            "needs_background": "light"
          }
        }
      ]
    },
    {
      "cell_type": "code",
      "metadata": {
        "colab": {
          "base_uri": "https://localhost:8080/",
          "height": 266
        },
        "id": "Hax5GycU6C4S",
        "outputId": "cd12984b-4c1c-46e4-80ae-e8d3bc2038f6"
      },
      "source": [
        "#check actual values of correlations\n",
        "corr"
      ],
      "execution_count": 220,
      "outputs": [
        {
          "output_type": "execute_result",
          "data": {
            "text/html": [
              "<div>\n",
              "<style scoped>\n",
              "    .dataframe tbody tr th:only-of-type {\n",
              "        vertical-align: middle;\n",
              "    }\n",
              "\n",
              "    .dataframe tbody tr th {\n",
              "        vertical-align: top;\n",
              "    }\n",
              "\n",
              "    .dataframe thead th {\n",
              "        text-align: right;\n",
              "    }\n",
              "</style>\n",
              "<table border=\"1\" class=\"dataframe\">\n",
              "  <thead>\n",
              "    <tr style=\"text-align: right;\">\n",
              "      <th></th>\n",
              "      <th>CreditScore</th>\n",
              "      <th>Age</th>\n",
              "      <th>Tenure</th>\n",
              "      <th>Balance</th>\n",
              "      <th>NumOfProducts</th>\n",
              "      <th>EstimatedSalary</th>\n",
              "      <th>Exited</th>\n",
              "    </tr>\n",
              "  </thead>\n",
              "  <tbody>\n",
              "    <tr>\n",
              "      <th>CreditScore</th>\n",
              "      <td>1.00</td>\n",
              "      <td>-0.00</td>\n",
              "      <td>0.00</td>\n",
              "      <td>0.01</td>\n",
              "      <td>0.01</td>\n",
              "      <td>-0.00</td>\n",
              "      <td>-0.03</td>\n",
              "    </tr>\n",
              "    <tr>\n",
              "      <th>Age</th>\n",
              "      <td>-0.00</td>\n",
              "      <td>1.00</td>\n",
              "      <td>-0.01</td>\n",
              "      <td>0.03</td>\n",
              "      <td>-0.03</td>\n",
              "      <td>-0.01</td>\n",
              "      <td>0.29</td>\n",
              "    </tr>\n",
              "    <tr>\n",
              "      <th>Tenure</th>\n",
              "      <td>0.00</td>\n",
              "      <td>-0.01</td>\n",
              "      <td>1.00</td>\n",
              "      <td>-0.01</td>\n",
              "      <td>0.01</td>\n",
              "      <td>0.01</td>\n",
              "      <td>-0.01</td>\n",
              "    </tr>\n",
              "    <tr>\n",
              "      <th>Balance</th>\n",
              "      <td>0.01</td>\n",
              "      <td>0.03</td>\n",
              "      <td>-0.01</td>\n",
              "      <td>1.00</td>\n",
              "      <td>-0.30</td>\n",
              "      <td>0.01</td>\n",
              "      <td>0.12</td>\n",
              "    </tr>\n",
              "    <tr>\n",
              "      <th>NumOfProducts</th>\n",
              "      <td>0.01</td>\n",
              "      <td>-0.03</td>\n",
              "      <td>0.01</td>\n",
              "      <td>-0.30</td>\n",
              "      <td>1.00</td>\n",
              "      <td>0.01</td>\n",
              "      <td>-0.05</td>\n",
              "    </tr>\n",
              "    <tr>\n",
              "      <th>EstimatedSalary</th>\n",
              "      <td>-0.00</td>\n",
              "      <td>-0.01</td>\n",
              "      <td>0.01</td>\n",
              "      <td>0.01</td>\n",
              "      <td>0.01</td>\n",
              "      <td>1.00</td>\n",
              "      <td>0.01</td>\n",
              "    </tr>\n",
              "    <tr>\n",
              "      <th>Exited</th>\n",
              "      <td>-0.03</td>\n",
              "      <td>0.29</td>\n",
              "      <td>-0.01</td>\n",
              "      <td>0.12</td>\n",
              "      <td>-0.05</td>\n",
              "      <td>0.01</td>\n",
              "      <td>1.00</td>\n",
              "    </tr>\n",
              "  </tbody>\n",
              "</table>\n",
              "</div>"
            ],
            "text/plain": [
              "                 CreditScore   Age  ...  EstimatedSalary  Exited\n",
              "CreditScore             1.00 -0.00  ...            -0.00   -0.03\n",
              "Age                    -0.00  1.00  ...            -0.01    0.29\n",
              "Tenure                  0.00 -0.01  ...             0.01   -0.01\n",
              "Balance                 0.01  0.03  ...             0.01    0.12\n",
              "NumOfProducts           0.01 -0.03  ...             0.01   -0.05\n",
              "EstimatedSalary        -0.00 -0.01  ...             1.00    0.01\n",
              "Exited                 -0.03  0.29  ...             0.01    1.00\n",
              "\n",
              "[7 rows x 7 columns]"
            ]
          },
          "metadata": {},
          "execution_count": 220
        }
      ]
    },
    {
      "cell_type": "markdown",
      "metadata": {
        "id": "I6hWUVjhF5w5"
      },
      "source": [
        "Correlation check can help us identify underlying multicolinearity problem that will do harm to modeling later.  We can see that only `Number of Products` and `Balance` are moderate negative correlated. With all correlation scores less than 0.5, there's no need to drop feature.  \n",
        "\n",
        "Note I also include the response variable `Exited` to get an idea on possible important relationship. It seems that `Age` is the most correlated though its correlation is weak.\n"
      ]
    },
    {
      "cell_type": "markdown",
      "metadata": {
        "id": "1oHWM50OqaKB"
      },
      "source": [
        "##1.4 Understand categorical features"
      ]
    },
    {
      "cell_type": "code",
      "metadata": {
        "colab": {
          "base_uri": "https://localhost:8080/",
          "height": 388
        },
        "id": "iMnOnjEy6LAU",
        "outputId": "23253788-8150-40eb-fa9e-dbb9ac31f85c"
      },
      "source": [
        "# understand categorical feature\n",
        "# 'Geography', 'Gender'\n",
        "# 'HasCrCard', 'IsActiveMember'\n",
        "_,axss = plt.subplots(2,2, figsize=[12,6])\n",
        "sns.countplot(x='Exited', hue='Geography', data=df, ax=axss[0][0])\n",
        "sns.countplot(x='Exited', hue='Gender', data=df, ax=axss[0][1])\n",
        "sns.countplot(x='Exited', hue='HasCrCard', data=df, ax=axss[1][0])\n",
        "sns.countplot(x='Exited', hue='IsActiveMember', data=df, ax=axss[1][1])\n",
        "plt.show()"
      ],
      "execution_count": 221,
      "outputs": [
        {
          "output_type": "display_data",
          "data": {
            "image/png": "[encoded data removed]",
            "text/plain": [
              "<Figure size 864x432 with 4 Axes>"
            ]
          },
          "metadata": {
            "needs_background": "light"
          }
        }
      ]
    },
    {
      "cell_type": "markdown",
      "metadata": {
        "id": "zWkY5dmsHhwq"
      },
      "source": [
        "There are four categorical features in our dataset. We can also imply information from their histograms.  \n",
        "1. For `Geography`, the customers in France and Spain are of similar distribution between their remained and exited customers, with counts of France is about two times of that of Spain. But the customers from `Germany` share a larger portion in the exited customers than the remained.\n",
        "2. For `Gender`, the remained havs more male than female, while the exited has more `Female`.\n",
        "3. For `IsActiveMember`, the exited has more non active member while the remained has more active ones.\n",
        "4. It seems similar in distribution of has credit card or not in the two groups."
      ]
    },
    {
      "cell_type": "markdown",
      "metadata": {
        "id": "I9ELRgekqfn1"
      },
      "source": [
        "<a name=\"part2\"></a>\n",
        "# Part 2 Feature Preprocessing\n",
        "In this part, I conducted necessary feature preprocessing for modeling. This includes: \n",
        "1. Split train & test set \n",
        "1. Encoding categorical features\n",
        "3. Feature Scaling\n",
        "\n",
        "The most important thing is to do splitting FIRST before you perform transformation, etc.\n",
        "The reason is that we want to prevent any **information leakage** from the test set, which is deadly for training process and causes overfitting. \n"
      ]
    },
    {
      "cell_type": "code",
      "metadata": {
        "id": "F5Ruo4BKcBQg"
      },
      "source": [
        "# Get feature space by dropping useless feature\n",
        "to_drop = ['RowNumber','CustomerId','Surname','Exited']\n",
        "X = df.drop(to_drop, axis=1)"
      ],
      "execution_count": 222,
      "outputs": []
    },
    {
      "cell_type": "code",
      "metadata": {
        "colab": {
          "base_uri": "https://localhost:8080/",
          "height": 204
        },
        "id": "O5ZEptfHcSDh",
        "outputId": "b5b75225-e6ff-49c2-f258-b98e676e7ad3"
      },
      "source": [
        "X.head()"
      ],
      "execution_count": 223,
      "outputs": [
        {
          "output_type": "execute_result",
          "data": {
            "text/html": [
              "<div>\n",
              "<style scoped>\n",
              "    .dataframe tbody tr th:only-of-type {\n",
              "        vertical-align: middle;\n",
              "    }\n",
              "\n",
              "    .dataframe tbody tr th {\n",
              "        vertical-align: top;\n",
              "    }\n",
              "\n",
              "    .dataframe thead th {\n",
              "        text-align: right;\n",
              "    }\n",
              "</style>\n",
              "<table border=\"1\" class=\"dataframe\">\n",
              "  <thead>\n",
              "    <tr style=\"text-align: right;\">\n",
              "      <th></th>\n",
              "      <th>CreditScore</th>\n",
              "      <th>Geography</th>\n",
              "      <th>Gender</th>\n",
              "      <th>Age</th>\n",
              "      <th>Tenure</th>\n",
              "      <th>Balance</th>\n",
              "      <th>NumOfProducts</th>\n",
              "      <th>HasCrCard</th>\n",
              "      <th>IsActiveMember</th>\n",
              "      <th>EstimatedSalary</th>\n",
              "    </tr>\n",
              "  </thead>\n",
              "  <tbody>\n",
              "    <tr>\n",
              "      <th>0</th>\n",
              "      <td>619</td>\n",
              "      <td>France</td>\n",
              "      <td>Female</td>\n",
              "      <td>42</td>\n",
              "      <td>2</td>\n",
              "      <td>0.00</td>\n",
              "      <td>1</td>\n",
              "      <td>1</td>\n",
              "      <td>1</td>\n",
              "      <td>101348.88</td>\n",
              "    </tr>\n",
              "    <tr>\n",
              "      <th>1</th>\n",
              "      <td>608</td>\n",
              "      <td>Spain</td>\n",
              "      <td>Female</td>\n",
              "      <td>41</td>\n",
              "      <td>1</td>\n",
              "      <td>83807.86</td>\n",
              "      <td>1</td>\n",
              "      <td>0</td>\n",
              "      <td>1</td>\n",
              "      <td>112542.58</td>\n",
              "    </tr>\n",
              "    <tr>\n",
              "      <th>2</th>\n",
              "      <td>502</td>\n",
              "      <td>France</td>\n",
              "      <td>Female</td>\n",
              "      <td>42</td>\n",
              "      <td>8</td>\n",
              "      <td>159660.80</td>\n",
              "      <td>3</td>\n",
              "      <td>1</td>\n",
              "      <td>0</td>\n",
              "      <td>113931.57</td>\n",
              "    </tr>\n",
              "    <tr>\n",
              "      <th>3</th>\n",
              "      <td>699</td>\n",
              "      <td>France</td>\n",
              "      <td>Female</td>\n",
              "      <td>39</td>\n",
              "      <td>1</td>\n",
              "      <td>0.00</td>\n",
              "      <td>2</td>\n",
              "      <td>0</td>\n",
              "      <td>0</td>\n",
              "      <td>93826.63</td>\n",
              "    </tr>\n",
              "    <tr>\n",
              "      <th>4</th>\n",
              "      <td>850</td>\n",
              "      <td>Spain</td>\n",
              "      <td>Female</td>\n",
              "      <td>43</td>\n",
              "      <td>2</td>\n",
              "      <td>125510.82</td>\n",
              "      <td>1</td>\n",
              "      <td>1</td>\n",
              "      <td>1</td>\n",
              "      <td>79084.10</td>\n",
              "    </tr>\n",
              "  </tbody>\n",
              "</table>\n",
              "</div>"
            ],
            "text/plain": [
              "   CreditScore Geography  Gender  ...  HasCrCard  IsActiveMember  EstimatedSalary\n",
              "0          619    France  Female  ...          1               1        101348.88\n",
              "1          608     Spain  Female  ...          0               1        112542.58\n",
              "2          502    France  Female  ...          1               0        113931.57\n",
              "3          699    France  Female  ...          0               0         93826.63\n",
              "4          850     Spain  Female  ...          1               1         79084.10\n",
              "\n",
              "[5 rows x 10 columns]"
            ]
          },
          "metadata": {},
          "execution_count": 223
        }
      ]
    },
    {
      "cell_type": "code",
      "metadata": {
        "colab": {
          "base_uri": "https://localhost:8080/"
        },
        "id": "g1x6OUjtcUET",
        "outputId": "172e0104-7d38-46c0-b24a-5afd0a9ac2f2"
      },
      "source": [
        "X.dtypes"
      ],
      "execution_count": 224,
      "outputs": [
        {
          "output_type": "execute_result",
          "data": {
            "text/plain": [
              "CreditScore          int64\n",
              "Geography           object\n",
              "Gender              object\n",
              "Age                  int64\n",
              "Tenure               int64\n",
              "Balance            float64\n",
              "NumOfProducts        int64\n",
              "HasCrCard            int64\n",
              "IsActiveMember       int64\n",
              "EstimatedSalary    float64\n",
              "dtype: object"
            ]
          },
          "metadata": {},
          "execution_count": 224
        }
      ]
    },
    {
      "cell_type": "code",
      "metadata": {
        "id": "ZEtTKPFUcbti"
      },
      "source": [
        "cat_cols = X.columns[X.dtypes=='O']\n",
        "num_cols = X.columns[(X.dtypes=='float64') | (X.dtypes=='int64')]"
      ],
      "execution_count": 225,
      "outputs": []
    },
    {
      "cell_type": "markdown",
      "metadata": {
        "id": "IFieYR-cfHYm"
      },
      "source": [
        "##2.1 Split dataset with stratified sampling\n",
        "\n",
        "I reserve 25% of data for testing and use 75% for training and validation.\n",
        "\n",
        "I also use **stratified sampling** to ensure similar distributions of label in training and test set.   \n",
        "The idea is to keep the training and test data close to the original data and better represent real-life data. The assumption is that the population distribution tend to remain the same.  \n",
        "If not using stratified sampling, the splitting will be random across labels. Since we have imbalance labels, in extreme case we may end up with ALL positive lables in the test set, and our model will learn nothing on positive cases through training."
      ]
    },
    {
      "cell_type": "code",
      "metadata": {
        "colab": {
          "base_uri": "https://localhost:8080/"
        },
        "id": "Zc-RTiDxfGe3",
        "outputId": "39cfa61b-a499-4fb1-db62-894f8dc37f1e"
      },
      "source": [
        "# Reserve 25% for testing\n",
        "# stratify example:\n",
        "# 100 -> y: 80 '0', 20 '1' -> 4:1\n",
        "# 80% training 64: '0', 16:'1' -> 4:1\n",
        "# 20% testing  16:'0', 4: '1' -> 4:1\n",
        "X_train, X_test, y_train, y_test = model_selection.train_test_split(X, y, test_size=0.25, stratify=y, random_state=1) #stratified sampling\n",
        "\n",
        "print('Training data has ' + str(X_train.shape[0]) + ' observation with ' + str(X_train.shape[1]) + ' features, \\n with churned samples account for ' + str((y_train[y_train==1].count()/len(y_train))*100) + '%')\n",
        "print('Test data has ' + str(X_test.shape[0]) + ' observation with ' + str(X_test.shape[1]) + ' features, \\n with churned samples account for ' + str((y_test[y_test==1].count()/len(y_test))*100) + '%')"
      ],
      "execution_count": 226,
      "outputs": [
        {
          "output_type": "stream",
          "name": "stdout",
          "text": [
            "Training data has 7500 observation with 10 features, \n",
            " with churned samples account for 20.37333333333333%\n",
            "Test data has 2500 observation with 10 features, \n",
            " with churned samples account for 20.36%\n"
          ]
        }
      ]
    },
    {
      "cell_type": "markdown",
      "metadata": {
        "id": "neBXTffDSI9_"
      },
      "source": [
        "##2.2 Encoding categorical features"
      ]
    },
    {
      "cell_type": "code",
      "metadata": {
        "id": "sZM1r03ec1kv"
      },
      "source": [
        "#convert Geography into dummy variables by OneHotEncoder\n",
        "# no worry on singularities cuz we use model with regularization\n",
        "def OneHotEncoding(df, enc, categories):  \n",
        "  transformed = pd.DataFrame(enc.transform(df[categories]).toarray(), columns=enc.get_feature_names(categories))\n",
        "  return pd.concat([df.reset_index(drop=True), transformed], axis=1).drop(categories, axis=1)\n",
        "\n",
        "categories = ['Geography']\n",
        "enc_ohe = OneHotEncoder()\n",
        "enc_ohe.fit(X_train[categories])\n",
        "\n",
        "X_train = OneHotEncoding(X_train, enc_ohe, categories)\n",
        "X_test = OneHotEncoding(X_test, enc_ohe, categories)\n"
      ],
      "execution_count": 227,
      "outputs": []
    },
    {
      "cell_type": "code",
      "metadata": {
        "id": "3fzWDZ1zeH3n"
      },
      "source": [
        "# convert Gender by Ordinal encoding since there're only two outcomes\n",
        "categories = ['Gender']\n",
        "enc_oe = OrdinalEncoder()\n",
        "enc_oe.fit(X[categories])\n",
        "\n",
        "X_train[categories] = enc_oe.transform(X_train[categories])\n",
        "X_test[categories] = enc_oe.transform(X_test[categories])"
      ],
      "execution_count": 23,
      "outputs": []
    },
    {
      "cell_type": "code",
      "metadata": {
        "colab": {
          "base_uri": "https://localhost:8080/",
          "height": 224
        },
        "id": "GG6Vbawnozr1",
        "outputId": "031b5701-a31d-4959-f62a-2878e309ad89"
      },
      "source": [
        "X_train.head()"
      ],
      "execution_count": 24,
      "outputs": [
        {
          "output_type": "execute_result",
          "data": {
            "text/html": [
              "<div>\n",
              "<style scoped>\n",
              "    .dataframe tbody tr th:only-of-type {\n",
              "        vertical-align: middle;\n",
              "    }\n",
              "\n",
              "    .dataframe tbody tr th {\n",
              "        vertical-align: top;\n",
              "    }\n",
              "\n",
              "    .dataframe thead th {\n",
              "        text-align: right;\n",
              "    }\n",
              "</style>\n",
              "<table border=\"1\" class=\"dataframe\">\n",
              "  <thead>\n",
              "    <tr style=\"text-align: right;\">\n",
              "      <th></th>\n",
              "      <th>CreditScore</th>\n",
              "      <th>Gender</th>\n",
              "      <th>Age</th>\n",
              "      <th>Tenure</th>\n",
              "      <th>Balance</th>\n",
              "      <th>NumOfProducts</th>\n",
              "      <th>HasCrCard</th>\n",
              "      <th>IsActiveMember</th>\n",
              "      <th>EstimatedSalary</th>\n",
              "      <th>Geography_France</th>\n",
              "      <th>Geography_Germany</th>\n",
              "      <th>Geography_Spain</th>\n",
              "    </tr>\n",
              "  </thead>\n",
              "  <tbody>\n",
              "    <tr>\n",
              "      <th>0</th>\n",
              "      <td>633</td>\n",
              "      <td>1.00</td>\n",
              "      <td>42</td>\n",
              "      <td>10</td>\n",
              "      <td>0.00</td>\n",
              "      <td>1</td>\n",
              "      <td>0</td>\n",
              "      <td>1</td>\n",
              "      <td>79408.17</td>\n",
              "      <td>0.00</td>\n",
              "      <td>0.00</td>\n",
              "      <td>1.00</td>\n",
              "    </tr>\n",
              "    <tr>\n",
              "      <th>1</th>\n",
              "      <td>708</td>\n",
              "      <td>0.00</td>\n",
              "      <td>23</td>\n",
              "      <td>4</td>\n",
              "      <td>71433.08</td>\n",
              "      <td>1</td>\n",
              "      <td>1</td>\n",
              "      <td>0</td>\n",
              "      <td>103697.57</td>\n",
              "      <td>0.00</td>\n",
              "      <td>1.00</td>\n",
              "      <td>0.00</td>\n",
              "    </tr>\n",
              "    <tr>\n",
              "      <th>2</th>\n",
              "      <td>548</td>\n",
              "      <td>0.00</td>\n",
              "      <td>37</td>\n",
              "      <td>9</td>\n",
              "      <td>0.00</td>\n",
              "      <td>2</td>\n",
              "      <td>0</td>\n",
              "      <td>0</td>\n",
              "      <td>98029.58</td>\n",
              "      <td>1.00</td>\n",
              "      <td>0.00</td>\n",
              "      <td>0.00</td>\n",
              "    </tr>\n",
              "    <tr>\n",
              "      <th>3</th>\n",
              "      <td>645</td>\n",
              "      <td>0.00</td>\n",
              "      <td>48</td>\n",
              "      <td>7</td>\n",
              "      <td>90612.34</td>\n",
              "      <td>1</td>\n",
              "      <td>1</td>\n",
              "      <td>1</td>\n",
              "      <td>149139.13</td>\n",
              "      <td>1.00</td>\n",
              "      <td>0.00</td>\n",
              "      <td>0.00</td>\n",
              "    </tr>\n",
              "    <tr>\n",
              "      <th>4</th>\n",
              "      <td>729</td>\n",
              "      <td>0.00</td>\n",
              "      <td>45</td>\n",
              "      <td>7</td>\n",
              "      <td>91091.06</td>\n",
              "      <td>2</td>\n",
              "      <td>1</td>\n",
              "      <td>0</td>\n",
              "      <td>71133.12</td>\n",
              "      <td>0.00</td>\n",
              "      <td>0.00</td>\n",
              "      <td>1.00</td>\n",
              "    </tr>\n",
              "  </tbody>\n",
              "</table>\n",
              "</div>"
            ],
            "text/plain": [
              "   CreditScore  Gender  ...  Geography_Germany  Geography_Spain\n",
              "0          633    1.00  ...               0.00             1.00\n",
              "1          708    0.00  ...               1.00             0.00\n",
              "2          548    0.00  ...               0.00             0.00\n",
              "3          645    0.00  ...               0.00             0.00\n",
              "4          729    0.00  ...               0.00             1.00\n",
              "\n",
              "[5 rows x 12 columns]"
            ]
          },
          "metadata": {},
          "execution_count": 24
        }
      ]
    },
    {
      "cell_type": "markdown",
      "metadata": {
        "id": "aPCfXPsKo4Lo"
      },
      "source": [
        "## 2.3 Feature Scaling\n",
        "Standardizaion is to scale the variables to normal distribution. Such tranform on features with different ranges (or distributions) is a necessity for classification or regression **models that are not tree based** and will be affected by data's original scales. \n",
        "\n",
        "There are two most common used scaling method: normalization (eg. MinMaxScaler) and StandardScaler. If there are no specific requirement for the range of output, we choose to use StandardScaler. The impact of different scaling methods on the model performance is small.  \n",
        "\n",
        "Feature scaling must complete **after** splitting dataset because we don't want any information leak from test data and we want to apply the same modification to training and testing data.    \n",
        "I use training data to compute the scaler by StandardScaler, then apply it to both train and test data.  \n",
        "\n",
        "Another reason I choose **standardization** is that we can easily **interpret coefficients of logistic regressions** with standardized features and derive feature importances accordingly.\n"
      ]
    },
    {
      "cell_type": "code",
      "metadata": {
        "id": "PX7-JvIHo8SX"
      },
      "source": [
        "scaler = StandardScaler()\n",
        "scaler.fit(X_train[num_cols])\n",
        "X_train[num_cols] = scaler.transform(X_train[num_cols])\n",
        "X_test[num_cols] = scaler.transform(X_test[num_cols])"
      ],
      "execution_count": 25,
      "outputs": []
    },
    {
      "cell_type": "code",
      "metadata": {
        "colab": {
          "base_uri": "https://localhost:8080/",
          "height": 224
        },
        "id": "tXBp8tzPpLEj",
        "outputId": "17a7c00d-8f2a-447c-f999-619f037b39fe"
      },
      "source": [
        "X_train.head()"
      ],
      "execution_count": 26,
      "outputs": [
        {
          "output_type": "execute_result",
          "data": {
            "text/html": [
              "<div>\n",
              "<style scoped>\n",
              "    .dataframe tbody tr th:only-of-type {\n",
              "        vertical-align: middle;\n",
              "    }\n",
              "\n",
              "    .dataframe tbody tr th {\n",
              "        vertical-align: top;\n",
              "    }\n",
              "\n",
              "    .dataframe thead th {\n",
              "        text-align: right;\n",
              "    }\n",
              "</style>\n",
              "<table border=\"1\" class=\"dataframe\">\n",
              "  <thead>\n",
              "    <tr style=\"text-align: right;\">\n",
              "      <th></th>\n",
              "      <th>CreditScore</th>\n",
              "      <th>Gender</th>\n",
              "      <th>Age</th>\n",
              "      <th>Tenure</th>\n",
              "      <th>Balance</th>\n",
              "      <th>NumOfProducts</th>\n",
              "      <th>HasCrCard</th>\n",
              "      <th>IsActiveMember</th>\n",
              "      <th>EstimatedSalary</th>\n",
              "      <th>Geography_France</th>\n",
              "      <th>Geography_Germany</th>\n",
              "      <th>Geography_Spain</th>\n",
              "    </tr>\n",
              "  </thead>\n",
              "  <tbody>\n",
              "    <tr>\n",
              "      <th>0</th>\n",
              "      <td>-0.17</td>\n",
              "      <td>1.00</td>\n",
              "      <td>0.29</td>\n",
              "      <td>1.73</td>\n",
              "      <td>-1.22</td>\n",
              "      <td>-0.91</td>\n",
              "      <td>-1.54</td>\n",
              "      <td>0.97</td>\n",
              "      <td>-0.35</td>\n",
              "      <td>0.00</td>\n",
              "      <td>0.00</td>\n",
              "      <td>1.00</td>\n",
              "    </tr>\n",
              "    <tr>\n",
              "      <th>1</th>\n",
              "      <td>0.60</td>\n",
              "      <td>0.00</td>\n",
              "      <td>-1.51</td>\n",
              "      <td>-0.34</td>\n",
              "      <td>-0.08</td>\n",
              "      <td>-0.91</td>\n",
              "      <td>0.65</td>\n",
              "      <td>-1.03</td>\n",
              "      <td>0.07</td>\n",
              "      <td>0.00</td>\n",
              "      <td>1.00</td>\n",
              "      <td>0.00</td>\n",
              "    </tr>\n",
              "    <tr>\n",
              "      <th>2</th>\n",
              "      <td>-1.05</td>\n",
              "      <td>0.00</td>\n",
              "      <td>-0.18</td>\n",
              "      <td>1.39</td>\n",
              "      <td>-1.22</td>\n",
              "      <td>0.80</td>\n",
              "      <td>-1.54</td>\n",
              "      <td>-1.03</td>\n",
              "      <td>-0.03</td>\n",
              "      <td>1.00</td>\n",
              "      <td>0.00</td>\n",
              "      <td>0.00</td>\n",
              "    </tr>\n",
              "    <tr>\n",
              "      <th>3</th>\n",
              "      <td>-0.05</td>\n",
              "      <td>0.00</td>\n",
              "      <td>0.86</td>\n",
              "      <td>0.70</td>\n",
              "      <td>0.23</td>\n",
              "      <td>-0.91</td>\n",
              "      <td>0.65</td>\n",
              "      <td>0.97</td>\n",
              "      <td>0.87</td>\n",
              "      <td>1.00</td>\n",
              "      <td>0.00</td>\n",
              "      <td>0.00</td>\n",
              "    </tr>\n",
              "    <tr>\n",
              "      <th>4</th>\n",
              "      <td>0.82</td>\n",
              "      <td>0.00</td>\n",
              "      <td>0.57</td>\n",
              "      <td>0.70</td>\n",
              "      <td>0.24</td>\n",
              "      <td>0.80</td>\n",
              "      <td>0.65</td>\n",
              "      <td>-1.03</td>\n",
              "      <td>-0.50</td>\n",
              "      <td>0.00</td>\n",
              "      <td>0.00</td>\n",
              "      <td>1.00</td>\n",
              "    </tr>\n",
              "  </tbody>\n",
              "</table>\n",
              "</div>"
            ],
            "text/plain": [
              "   CreditScore  Gender  ...  Geography_Germany  Geography_Spain\n",
              "0        -0.17    1.00  ...               0.00             1.00\n",
              "1         0.60    0.00  ...               1.00             0.00\n",
              "2        -1.05    0.00  ...               0.00             0.00\n",
              "3        -0.05    0.00  ...               0.00             0.00\n",
              "4         0.82    0.00  ...               0.00             1.00\n",
              "\n",
              "[5 rows x 12 columns]"
            ]
          },
          "metadata": {},
          "execution_count": 26
        }
      ]
    },
    {
      "cell_type": "markdown",
      "metadata": {
        "id": "EPunGH27qvcE"
      },
      "source": [
        "<a name=\"part3\"></a>\n",
        "#Part 3 Model Traning and tuning\n",
        "I use several different classfication models here for comparing and seeking better performance, including Logistic Regression, Random Forest, XGBoost and KNN.   \n",
        "In terms of metrics, I included multiple metrics to evaluate the model:\n",
        "- Accuracy: correctly labeled real champion users\n",
        "\n",
        "- Precision (PPV, positive predictive value): tp / (tp + fp)   \n",
        "Total number of true predictive champion users divided by the total number of predictive champion users. High Precision means low fp, not many non-champion users were predicted as champion users.\n",
        "\n",
        "- Recall (sensitivity, hit rate, true positive rate): tp / (tp + fn)   \n",
        "  Predict most postive or champion users correctly. High recall means low fn, not many champion users were predicted as non-champion users.\n",
        "\n",
        "- F1 score: 2 \\* precision \\* recall / (precision + recall)\n",
        "A balance between precision and recall.\n",
        "\n",
        "In this particular case, I select **recall score** to refit and pick the optimal model. Recall indicates how many (in percentage) true customer churn are successfully identified.  \n",
        "It makes sense to me that the ultimate goal of identifying customer churn is to *take targeted actions to these customers to encourage them to stay*.  Such actions may include special offers or discounts or giving more caring and love to these customers.  \n",
        "Therefore, it won't cause a problem when the precision score, i.e. the percentage of true customer churn among predicted churn, is not high enough, since main purpose is to avoid customer churn as much as possible, so it's of most importance to identify true customer churn as many as possible.\n",
        "\n"
      ]
    },
    {
      "cell_type": "markdown",
      "metadata": {
        "id": "YvVDEod4qY8n"
      },
      "source": [
        "##3.1 Baseline models"
      ]
    },
    {
      "cell_type": "code",
      "metadata": {
        "colab": {
          "base_uri": "https://localhost:8080/"
        },
        "id": "-QSkQ4xC-8NW",
        "outputId": "0397fbee-69a7-4051-8269-0124410881cd"
      },
      "source": [
        "#baseline models\n",
        "\n",
        "# Logistic Regression\n",
        "classifier_logistic = LogisticRegression(solver='liblinear')\n",
        "# Random Forest\n",
        "classifier_RF = RandomForestClassifier(random_state=0, n_jobs = -1)\n",
        "# XGBoost\n",
        "classifier_XGB = XGBClassifier(random_state=0, n_jobs = -1)\n",
        "# K Nearest Neighbors\n",
        "classifier_KNN = KNeighborsClassifier()\n",
        "\n",
        "# Use 5-fold Cross Validation to get the recall score for different models\n",
        "model_names = ['Logistic Regression','Random Forest','XGBoost','KNN']\n",
        "model_list = [classifier_logistic, classifier_RF, classifier_XGB, classifier_KNN]\n",
        "count = 0\n",
        "for classifier in model_list:\n",
        "    cv_score = model_selection.cross_val_score(classifier, X_train, y_train, scoring='recall',cv=5)\n",
        "    print(cv_score)\n",
        "    print('Baseline model recall of ' + model_names[count] + ' is ' + str(cv_score.mean()))\n",
        "    print()\n",
        "    count += 1"
      ],
      "execution_count": 27,
      "outputs": [
        {
          "output_type": "stream",
          "name": "stdout",
          "text": [
            "[0.21967213 0.20655738 0.2254902  0.2124183  0.22875817]\n",
            "Baseline model recall of Logistic Regression is 0.21857923497267762\n",
            "\n",
            "[0.51803279 0.47213115 0.46732026 0.46078431 0.4869281 ]\n",
            "Baseline model recall of Random Forest is 0.4810393228329583\n",
            "\n",
            "[0.5147541  0.45245902 0.46078431 0.48366013 0.47712418]\n",
            "Baseline model recall of XGBoost is 0.4777563484410157\n",
            "\n",
            "[0.41311475 0.42295082 0.38562092 0.4248366  0.43464052]\n",
            "Baseline model recall of KNN is 0.41623272259723565\n",
            "\n"
          ]
        }
      ]
    },
    {
      "cell_type": "markdown",
      "metadata": {
        "id": "TAjIr9rbru-6"
      },
      "source": [
        "We can see that baseline model only achieve highest recall score of 0.48 by XGBoost."
      ]
    },
    {
      "cell_type": "markdown",
      "metadata": {
        "id": "SUu8E9GOruhY"
      },
      "source": [
        "## 3.2 Hyperparameter tuning\n",
        "\n",
        "Before we tune hyperparameters to find optimal models, I first define several wrapper functions to encapsulate the process, including a pipeline for SMOTE sampling.\n",
        "\n",
        "[SMOTE (Synthetic Minority Oversampling Technique)](https://machinelearningmastery.com/smote-oversampling-for-imbalanced-classification/) is an oversampling method to handle imbalanced labels. The method oversample on the less observed labels to achieve as many as the more observed labels, so that we have exactly same observations for each class in our dataset. \n",
        "\n",
        "However, an VERY important point is to **build a pipeline to conduct SMOTE** when we want to include *cross validation* for model training.  \n",
        "The pipeline will ensure that we **ONLY oversample on the training set at each iteration**, not both the training and *validation* set. If we simply oversample the whole training set then use that data to fit a *regular* cross validation function, we will always have **information leakage** in the validation fold, because the oversampling is *already* performed on *whole* dataset, including *validation fold!*\n",
        "\n",
        "I will tune the four models on original data as well as using SMOTE for comparison.  \n"
      ]
    },
    {
      "cell_type": "code",
      "metadata": {
        "id": "fHWvxePk44s2"
      },
      "source": [
        "# helper function for printing out Grid Search results (also works for Randomized Search)\n",
        "def print_grid_search_metrics(gs):\n",
        "    print (\"Best score: \" + str(gs.best_score_))\n",
        "    print (\"Best parameters set:\")\n",
        "    best_parameters = gs.best_params_\n",
        "    for param_name in sorted(best_parameters.keys()):\n",
        "        print('- ' + param_name + ':' + str(best_parameters[param_name]))"
      ],
      "execution_count": 47,
      "outputs": []
    },
    {
      "cell_type": "code",
      "metadata": {
        "id": "fP9Un89FcFnu"
      },
      "source": [
        "# helper function for plotting the multiple metrics performance\n",
        "def plot_grid_search_metrics(gs):\n",
        "    # Get the regular numpy array from the MaskedArray\n",
        "    results = gs.cv_results_\n",
        "    params = gs.best_params_.keys()\n",
        "    scoring = gs.scorer_\n",
        "    for param in params:\n",
        "        try: \n",
        "            X_axis = np.array(results['param_'+param].data, dtype=float)\n",
        "        except: \n",
        "            continue\n",
        "        plt.figure(figsize=(6, 6))\n",
        "        plt.title(\"GridSearchCV evaluating using multiple scorers\",\n",
        "            fontsize=12)\n",
        "        ax = plt.gca()\n",
        "        for scorer, color in zip(sorted(scoring), ['g', 'k']):\n",
        "            for sample, style in (('train', '--'), ('test', '-')):\n",
        "                sample_score_mean = results['mean_%s_%s' % (sample, scorer)]\n",
        "                sample_score_std = results['std_%s_%s' % (sample, scorer)]\n",
        "                ax.fill_between(X_axis, sample_score_mean - sample_score_std,\n",
        "                                sample_score_mean + sample_score_std,\n",
        "                                alpha=0.1 if sample == 'test' else 0, color=color)\n",
        "                ax.plot(X_axis, sample_score_mean, style, color=color,\n",
        "                        alpha=1 if sample == 'test' else 0.7,\n",
        "                        label=\"%s (%s)\" % (scorer, sample))\n",
        "\n",
        "            best_index = np.nonzero(results['rank_test_%s' % scorer] == 1)[0][0]\n",
        "            best_score = results['mean_test_%s' % scorer][best_index]\n",
        "\n",
        "            # Plot a dotted vertical line at the best score for that scorer marked by x\n",
        "            ax.plot([X_axis[best_index], ] * 2, [0, best_score],\n",
        "                linestyle='-.', color=color, marker='x', markeredgewidth=3, ms=8)\n",
        "\n",
        "            # Annotate the best score for that scorer\n",
        "            ax.annotate(\"%0.2f\" % best_score,\n",
        "                    (X_axis[best_index], best_score + 0.005))\n",
        "        \n",
        "        plt.xlabel(param)\n",
        "        plt.ylabel(\"Score\")\n",
        "        plt.legend(loc=\"best\")\n",
        "        plt.grid(False)\n",
        "        plt.show()"
      ],
      "execution_count": 46,
      "outputs": []
    },
    {
      "cell_type": "code",
      "metadata": {
        "id": "iydZ2Mccq7tN"
      },
      "source": [
        "# set up multiple evaluation metrics \n",
        "scorers = {\n",
        "    'Accuracy': \"accuracy\",\n",
        "    'precision_score': make_scorer(precision_score, zero_division=0),\n",
        "    'recall_score': make_scorer(recall_score),\n",
        "    'f1_score': make_scorer(f1_score, pos_label=1)   \n",
        "}"
      ],
      "execution_count": 45,
      "outputs": []
    },
    {
      "cell_type": "code",
      "metadata": {
        "id": "wCvlxKf19aw0"
      },
      "source": [
        "# wrapper function for conducting grid search\n",
        "def grid_search(model, xtrain, ytrain, grid, scorers, refit_score='recall_score', plot=False):\n",
        "    '''\n",
        "    fits a GridSearchCV classifier using refit_score for optimization(refit on the best model according to refit_score)\n",
        "    '''\n",
        "    # grid search logistic regression training with 5-fold cross validation\n",
        "    Grid_cv = GridSearchCV(model, grid, scoring=scorers, refit=refit_score, \n",
        "                           cv=5, return_train_score=True)\n",
        "    Grid_cv.fit(xtrain, ytrain)\n",
        "    # print the best hyperparameter combination\n",
        "    print_grid_search_metrics(Grid_cv)\n",
        "    # plotting the result\n",
        "    if plot:\n",
        "        plot_grid_search_metrics(Grid_cv)\n",
        "    \n",
        "    return Grid_cv"
      ],
      "execution_count": 44,
      "outputs": []
    },
    {
      "cell_type": "code",
      "metadata": {
        "id": "Y5B5SbxGtDjg"
      },
      "source": [
        "# wrapper function for conducting randomized search\n",
        "def rand_search(model, xtrain, ytrain, grid, scorers, refit_score='recall_score', plot=False):\n",
        "    '''\n",
        "    fits a RandomizedSearchCV classifier using refit_score for optimization(refit on the best model according to refit_score)\n",
        "    '''\n",
        "    # grid search logistic regression training with 5-fold cross validation\n",
        "    Rand_cv = RandomizedSearchCV(model, grid, scoring=scorers, refit=refit_score, \n",
        "                           cv=5, return_train_score=True, random_state=0)\n",
        "    Rand_cv.fit(xtrain, ytrain)\n",
        "    # print the best hyperparameter combination\n",
        "    print_grid_search_metrics(Rand_cv)\n",
        "    # plotting the result\n",
        "    if plot:\n",
        "        plot_grid_search_metrics(Rand_cv)\n",
        "    \n",
        "    return Rand_cv"
      ],
      "execution_count": 43,
      "outputs": []
    },
    {
      "cell_type": "code",
      "metadata": {
        "id": "US9D897Zg_x5"
      },
      "source": [
        "# wrapper function for conducting grid search with SMOTE oversampling\n",
        "def grid_search_smote(model, xtrain, ytrain, grid, scorers, refit_score='recall_score', plot=False):\n",
        "    '''\n",
        "    fits a GridSearchCV classifier using refit_score for optimization(refit on the best model according to refit_score)\n",
        "    '''\n",
        "    smote = SMOTE(random_state=0)\n",
        "    pipeline = Pipeline([\n",
        "                    ('smote', smote), \n",
        "                    ('model', model)\n",
        "                    ])\n",
        "    # grid search logistic regression training with 5-fold cross validation\n",
        "    Grid_cv = GridSearchCV(pipeline, grid, scoring=scorers, refit=refit_score, \n",
        "                           cv=5, return_train_score=True)\n",
        "    Grid_cv.fit(xtrain, ytrain)\n",
        "    # print the best hyperparameter combination\n",
        "    print_grid_search_metrics(Grid_cv)\n",
        "    # plotting the result\n",
        "    if plot:\n",
        "        plot_grid_search_metrics(Grid_cv)\n",
        "    \n",
        "    return Grid_cv"
      ],
      "execution_count": 42,
      "outputs": []
    },
    {
      "cell_type": "code",
      "metadata": {
        "id": "ajZ9-TkutWr4"
      },
      "source": [
        "# wrapper function for conducting grid search with SMOTE oversampling\n",
        "def rand_search_smote(model, xtrain, ytrain, grid, scorers, refit_score='recall_score', plot=False):\n",
        "    '''\n",
        "    fits a GridSearchCV classifier using refit_score for optimization(refit on the best model according to refit_score)\n",
        "    '''\n",
        "    smote = SMOTE(random_state=0)\n",
        "    pipeline = Pipeline([\n",
        "                    ('smote', smote), \n",
        "                    ('model', model)\n",
        "                    ])\n",
        "    # grid search logistic regression training with 5-fold cross validation\n",
        "    Rand_cv = RandomizedSearchCV(pipeline, grid, scoring=scorers, refit=refit_score, \n",
        "                           cv=5, return_train_score=True, random_state=0)\n",
        "    Rand_cv.fit(xtrain, ytrain)\n",
        "    # print the best hyperparameter combination\n",
        "    print_grid_search_metrics(Rand_cv)\n",
        "    # plotting the result\n",
        "    if plot:\n",
        "        plot_grid_search_metrics(Rand_cv)\n",
        "    \n",
        "    return Rand_cv"
      ],
      "execution_count": null,
      "outputs": []
    },
    {
      "cell_type": "markdown",
      "metadata": {
        "id": "GeniZBXfq3-O"
      },
      "source": [
        "### Logistic Regression"
      ]
    },
    {
      "cell_type": "code",
      "metadata": {
        "colab": {
          "base_uri": "https://localhost:8080/"
        },
        "id": "zJQOOpYc48ie",
        "outputId": "9a42123c-7476-4f3d-dc47-866474498bdb"
      },
      "source": [
        "grid = {\n",
        "    'penalty':('l1', 'l2'), \n",
        "    'C':(0.001, 0.01, 0.05, 0.1, 0.2, 0.5, 1, 1.1, 1.2)\n",
        "    }\n",
        "\n",
        "best_logreg = grid_search(classifier_logistic, X_train, y_train, grid, scorers).best_estimator_"
      ],
      "execution_count": 52,
      "outputs": [
        {
          "output_type": "stream",
          "name": "stdout",
          "text": [
            "Best score: 0.21857923497267762\n",
            "Best parameters set:\n",
            "- C:1\n",
            "- penalty:l2\n"
          ]
        }
      ]
    },
    {
      "cell_type": "code",
      "metadata": {
        "colab": {
          "base_uri": "https://localhost:8080/"
        },
        "id": "mcMh5bJrfihi",
        "outputId": "555a7216-e369-4426-e789-1faf460b0c30"
      },
      "source": [
        "# SMOTE\n",
        "# ignore FutureWarning of function deprecated \n",
        "import warnings    \n",
        "warnings.filterwarnings(\"ignore\")\n",
        "\n",
        "grid = {\n",
        "    'model__penalty':('l1', 'l2'), \n",
        "    'model__C':(0.0001, 0.001, 0.01, 0.05, 0.1, 0.2, 0.5, 1, 1.1, 1.2)\n",
        "    }\n",
        "    \n",
        "best_logregsm = grid_search_smote(classifier_logistic, X_train, y_train, grid, scorers).best_estimator_"
      ],
      "execution_count": 53,
      "outputs": [
        {
          "output_type": "stream",
          "name": "stdout",
          "text": [
            "Best score: 0.7552298296367728\n",
            "Best parameters set:\n",
            "- model__C:0.001\n",
            "- model__penalty:l1\n"
          ]
        }
      ]
    },
    {
      "cell_type": "markdown",
      "metadata": {
        "id": "L8Yubq0oq6fl"
      },
      "source": [
        "### Random Forest"
      ]
    },
    {
      "cell_type": "code",
      "metadata": {
        "colab": {
          "base_uri": "https://localhost:8080/"
        },
        "id": "919droV45UwN",
        "outputId": "5ab2557a-062a-4ad9-e7ba-c974d1e73986"
      },
      "source": [
        "grid = {\n",
        "    'n_estimators' : [100,120,140,160],\n",
        "    'max_depth': [20,40,60]\n",
        "}\n",
        "\n",
        "best_rf = grid_search(classifier_RF, X_train, y_train, grid, scorers).best_estimator_"
      ],
      "execution_count": 54,
      "outputs": [
        {
          "output_type": "stream",
          "name": "stdout",
          "text": [
            "Best score: 0.48692167577413487\n",
            "Best parameters set:\n",
            "- max_depth:40\n",
            "- n_estimators:140\n"
          ]
        }
      ]
    },
    {
      "cell_type": "code",
      "metadata": {
        "colab": {
          "base_uri": "https://localhost:8080/"
        },
        "id": "RVUGqw_wTCcy",
        "outputId": "f756d9e8-27c5-41ce-8ba2-37af422116da"
      },
      "source": [
        "grid = {\n",
        "    'model__n_estimators' : [160,180,200],\n",
        "    'model__max_depth': [1,5,10]\n",
        "}\n",
        "best_rfsm = grid_search_smote(classifier_RF, X_train, y_train, grid, scorers).best_estimator_"
      ],
      "execution_count": 57,
      "outputs": [
        {
          "output_type": "stream",
          "name": "stdout",
          "text": [
            "Best score: 0.7009278902817959\n",
            "Best parameters set:\n",
            "- model__max_depth:5\n",
            "- model__n_estimators:180\n"
          ]
        }
      ]
    },
    {
      "cell_type": "markdown",
      "metadata": {
        "id": "gmYLDdQ9q8lG"
      },
      "source": [
        "### XGBoost\n",
        "XGBoost is also an ensemble method that works by boosting trees. XGboost makes use of a gradient descent algorithm which is the reason that it is called Gradient Boosting. Compared to Random Forest who grow all trees randomly before final aggregation, Gradient Boosing will correct the previous mistake done by the model, learn from it and its next step improves the performance.   \n",
        "([More details](https://www.datasciencecentral.com/profiles/blogs/decision-tree-vs-random-forest-vs-boosted-trees-explained) on comparison)"
      ]
    },
    {
      "cell_type": "code",
      "metadata": {
        "colab": {
          "base_uri": "https://localhost:8080/"
        },
        "id": "8fwMpLdp5bXo",
        "outputId": "6cebc5d1-d6de-4ba1-9a10-89ead9f9626c"
      },
      "source": [
        "grid = {\n",
        "    'n_estimators' : [40,50,80],\n",
        "    'learning_rate': [0.01, 0.05, 0.1],\n",
        "    'max_depth': [20,30,40]\n",
        "}\n",
        "best_xgb = grid_search(classifier_XGB, X_train, y_train, grid, scorers).best_estimator_"
      ],
      "execution_count": 58,
      "outputs": [
        {
          "output_type": "stream",
          "name": "stdout",
          "text": [
            "Best score: 0.5131126111646844\n",
            "Best parameters set:\n",
            "- learning_rate:0.05\n",
            "- max_depth:30\n",
            "- n_estimators:50\n"
          ]
        }
      ]
    },
    {
      "cell_type": "code",
      "metadata": {
        "colab": {
          "base_uri": "https://localhost:8080/"
        },
        "id": "4f3OXYqSTSjL",
        "outputId": "ab95608f-ebd1-484b-c7cb-e482ccf559b8"
      },
      "source": [
        "grid = {\n",
        "    'model__n_estimators' : [20,40,60],\n",
        "    'model__learning_rate': [0.01, 0.1, 0.2, 0.4],\n",
        "    'model__max_depth': [1,2,3]\n",
        "}\n",
        "best_xgbsm = grid_search_smote(classifier_XGB, X_train.values, y_train, grid, scorers).best_estimator_"
      ],
      "execution_count": 61,
      "outputs": [
        {
          "output_type": "stream",
          "name": "stdout",
          "text": [
            "Best score: 0.743445837351334\n",
            "Best parameters set:\n",
            "- model__learning_rate:0.2\n",
            "- model__max_depth:1\n",
            "- model__n_estimators:40\n"
          ]
        }
      ]
    },
    {
      "cell_type": "markdown",
      "metadata": {
        "id": "nin0ICKCrCE2"
      },
      "source": [
        "### K Nearest Neighbors"
      ]
    },
    {
      "cell_type": "code",
      "metadata": {
        "colab": {
          "base_uri": "https://localhost:8080/"
        },
        "id": "-Oj32oaC5sBV",
        "outputId": "1a1de163-bd41-4d2b-94b2-485d8ceaec89"
      },
      "source": [
        "grid = {\n",
        "    'n_neighbors':[1,3,5,7,9]\n",
        "}\n",
        "best_knn = grid_search(classifier_KNN, X_train, y_train, grid, scorers).best_estimator_"
      ],
      "execution_count": 62,
      "outputs": [
        {
          "output_type": "stream",
          "name": "stdout",
          "text": [
            "Best score: 0.4941347905282331\n",
            "Best parameters set:\n",
            "- n_neighbors:1\n"
          ]
        }
      ]
    },
    {
      "cell_type": "code",
      "metadata": {
        "colab": {
          "base_uri": "https://localhost:8080/"
        },
        "id": "FN69K-YETWEO",
        "outputId": "5ee55538-cc63-4d65-804a-4b61899c3621"
      },
      "source": [
        "grid = {\n",
        "    'model__n_neighbors':[12,13,14]\n",
        "}\n",
        "best_knnsm = grid_search_smote(classifier_KNN, X_train, y_train, grid, scorers).best_estimator_"
      ],
      "execution_count": 63,
      "outputs": [
        {
          "output_type": "stream",
          "name": "stdout",
          "text": [
            "Best score: 0.7329947498124934\n",
            "Best parameters set:\n",
            "- model__n_neighbors:13\n"
          ]
        }
      ]
    },
    {
      "cell_type": "markdown",
      "metadata": {
        "id": "CC3SC3TwrFxI"
      },
      "source": [
        "<a name=\"part4\"></a>\n",
        "#Part 4 Model Evaluation\n",
        "Here I provide several options to view evaluation results:\n",
        "1. `draw_confusion_matrices` can print out accuracy, precision, recall, f1 score by each model;\n",
        "2. set `out=True` in the above function can print out the above contents plus raw confusion matrix by each model;\n",
        "3. `plot_conf_mat` can plot confusion matrix with heatmap by each model;\n",
        "4. set `out=True` in `draw_confusion_matrices` function can display dataframe that highlighted highest value among models by each metrics, and can be used to compare models.\n"
      ]
    },
    {
      "cell_type": "code",
      "metadata": {
        "id": "ABO8VYGW5fMM"
      },
      "source": [
        "# calculate accuracy, precision and recall, [[tn, fp],[]]\n",
        "def cal_evaluation(classifier, cm, out=False):\n",
        "    np.seterr(divide='ignore', invalid='ignore')\n",
        "    tn = cm[0][0]\n",
        "    fp = cm[0][1]\n",
        "    fn = cm[1][0]\n",
        "    tp = cm[1][1]\n",
        "    accuracy  = (tp + tn) / (tp + fp + fn + tn + 0.0)\n",
        "    precision = tp / (tp + fp + 0.0)\n",
        "    recall = tp / (tp + fn + 0.0) \n",
        "    f1 = 2 * precision * recall / (precision + recall)\n",
        "    print (classifier)\n",
        "    if out:\n",
        "        cmDF = pd.DataFrame(cm, columns=['pred_0', 'pred_1'], index=['true_0', 'true_1'])\n",
        "        print (cmDF)\n",
        "    print(\"Accuracy: %.2f%%\" % (accuracy * 100.0))\n",
        "    print(\"Precision: %.2f%%\" % (precision * 100.0))\n",
        "    print(\"Recall: %.2f%%\" % (recall * 100.0))\n",
        "    print('F1 score: %.2f%%' % (f1 * 100))\n",
        "    print()\n",
        "    df = {'Accuracy':[accuracy], 'Precision': [precision], 'Recall':recall, 'F1 score':f1, 'Model': classifier}\n",
        "    return df\n",
        "\n",
        "\n",
        "# print out confusion matrices\n",
        "def draw_confusion_matrices(confusion_matricies, out=False, highlight=False):\n",
        "    # - out: print out raw confusion matrices as dataframe if True; default False.\n",
        "    # - highlight: print out comparison across models with highlight on highest values\n",
        "    comparison_df = pd.DataFrame(columns=['Accuracy', 'Precision', 'Recall', 'F1 score', 'Model'], )\n",
        "    class_names = ['Not','Churn']\n",
        "    for cm in confusion_matrices:\n",
        "        classifier, cm = cm[0], cm[1]\n",
        "        dict = cal_evaluation(classifier, cm, out)\n",
        "        df = pd.DataFrame(dict)\n",
        "        comparison_df = pd.concat([comparison_df, df], ignore_index = True) \n",
        "    if highlight:    \n",
        "        display(comparison_df.set_index('Model').style.highlight_max(axis=0))\n"
      ],
      "execution_count": 173,
      "outputs": []
    },
    {
      "cell_type": "code",
      "metadata": {
        "id": "6-kJWPF-MT7T"
      },
      "source": [
        "# plot confusion matrices\n",
        "def plot_conf_mat(cm, ax, title):\n",
        "    '''Plot a confusion matrix in the specified axes object.'''\n",
        "    sns.heatmap(data=cm,\n",
        "                annot=True,\n",
        "                cmap='Blues',\n",
        "                annot_kws={'fontsize': 16},\n",
        "                ax=ax)\n",
        "    ax.set_title(title)\n",
        "    ax.set_xlabel('Predicted Label')\n",
        "    ax.set_xticks([0.5, 1.5])\n",
        "    ax.set_xticklabels(['Retained', 'Churned'])\n",
        "\n",
        "    ax.set_ylabel('True Label')\n",
        "    ax.set_yticks([0.25, 1.25])\n",
        "    ax.set_yticklabels(['Retained', 'Churned'])"
      ],
      "execution_count": 67,
      "outputs": []
    },
    {
      "cell_type": "code",
      "metadata": {
        "colab": {
          "base_uri": "https://localhost:8080/",
          "height": 621
        },
        "id": "jwT5tIi_nW79",
        "outputId": "c66361d8-8edf-486c-c30d-985fbff23737"
      },
      "source": [
        "fig, ((ax1,ax2),(ax3,ax4)) = plt.subplots(2, 2, figsize=(10, 10)) \n",
        "titles = ['Logistic Regression', 'Random Forest', 'XGBoost', 'KNN']\n",
        "axes = [ax1, ax2, ax3, ax4]   \n",
        "models = [best_logreg, best_rf, best_xgb, best_knn]\n",
        "# plot normalized confusion matrix\n",
        "for i in range(4):\n",
        "    plot_conf_mat(confusion_matrix(y_test, models[i].predict(X_test).round(), normalize='true'), axes[i], titles[i])"
      ],
      "execution_count": 169,
      "outputs": [
        {
          "output_type": "display_data",
          "data": {
            "image/png": "[encoded data removed]",
            "text/plain": [
              "<Figure size 720x720 with 8 Axes>"
            ]
          },
          "metadata": {
            "needs_background": "light"
          }
        }
      ]
    },
    {
      "cell_type": "code",
      "metadata": {
        "colab": {
          "base_uri": "https://localhost:8080/",
          "height": 621
        },
        "id": "-2bK3tWaYR7b",
        "outputId": "04d1ceea-f884-4835-a6ff-ac23bf27cacd"
      },
      "source": [
        "# SMOTE\n",
        "\n",
        "fig, ((ax1,ax2),(ax3,ax4)) = plt.subplots(2, 2, figsize=(10, 10)) \n",
        "titles = ['Logistic Regression (SMOTE)', 'Random Forest (SMOTE)', 'XGBoost (SMOTE)', 'KNN (SMOTE)']\n",
        "axes = [ax1, ax2, ax3, ax4]   \n",
        "models = [best_logregsm, best_rfsm, best_xgbsm, best_knnsm]\n",
        "for i in range(4):\n",
        "    plot_conf_mat(confusion_matrix(y_test, models[i].predict(X_test.values).round(), normalize='true'), axes[i], titles[i])"
      ],
      "execution_count": 172,
      "outputs": [
        {
          "output_type": "display_data",
          "data": {
            "image/png": "[encoded data removed]",
            "text/plain": [
              "<Figure size 720x720 with 8 Axes>"
            ]
          },
          "metadata": {
            "needs_background": "light"
          }
        }
      ]
    },
    {
      "cell_type": "markdown",
      "metadata": {
        "id": "-IcKVkqSlWxj"
      },
      "source": [
        "We can see that using SMOTE in model training and tuning will significantly enhance model performance! The highest recall achieved by training on original data is only 0.47, but with SMOTE we can achieve that of 0.7."
      ]
    },
    {
      "cell_type": "code",
      "metadata": {
        "colab": {
          "base_uri": "https://localhost:8080/",
          "height": 553
        },
        "id": "eaYTPioq6bGL",
        "outputId": "2f8d83ed-7c30-4a7a-8eaf-070dc1c6f03c"
      },
      "source": [
        "# Confusion matrix, accuracy, precison and recall for random forest and logistic regression\n",
        "# test on x\n",
        "confusion_matrices = [\n",
        "    (\"Logistic Regression\", confusion_matrix(y_test,best_logreg.predict(X_test))),\n",
        "    (\"Random Forest\", confusion_matrix(y_test,best_rf.predict(X_test))),\n",
        "    (\"XGBoost\", confusion_matrix(y_test, best_xgb.predict(X_test))),\n",
        "    (\"KNN\", confusion_matrix(y_test, best_knn.predict(X_test)))\n",
        "]\n",
        "\n",
        "draw_confusion_matrices(confusion_matrices, highlight=True)"
      ],
      "execution_count": 166,
      "outputs": [
        {
          "output_type": "stream",
          "name": "stdout",
          "text": [
            "Logistic Regression\n",
            "Accuracy: 80.80%\n",
            "Precision: 58.58%\n",
            "Recall: 19.45%\n",
            "F1 score: 29.20%\n",
            "\n",
            "Random Forest\n",
            "Accuracy: 85.96%\n",
            "Precision: 77.05%\n",
            "Recall: 44.20%\n",
            "F1 score: 56.18%\n",
            "\n",
            "XGBoost\n",
            "Accuracy: 84.68%\n",
            "Precision: 68.86%\n",
            "Recall: 45.19%\n",
            "F1 score: 54.57%\n",
            "\n",
            "KNN\n",
            "Accuracy: 80.04%\n",
            "Precision: 51.07%\n",
            "Recall: 46.76%\n",
            "F1 score: 48.82%\n",
            "\n"
          ]
        },
        {
          "output_type": "display_data",
          "data": {
            "text/html": [
              "<style  type=\"text/css\" >\n",
              "#T_a8a3f02e_1a91_11ec_9eff_0242ac1c0002row1_col0,#T_a8a3f02e_1a91_11ec_9eff_0242ac1c0002row1_col1,#T_a8a3f02e_1a91_11ec_9eff_0242ac1c0002row1_col3,#T_a8a3f02e_1a91_11ec_9eff_0242ac1c0002row3_col2{\n",
              "            background-color:  yellow;\n",
              "        }</style><table id=\"T_a8a3f02e_1a91_11ec_9eff_0242ac1c0002\" ><thead>    <tr>        <th class=\"blank level0\" ></th>        <th class=\"col_heading level0 col0\" >Accuracy</th>        <th class=\"col_heading level0 col1\" >Precision</th>        <th class=\"col_heading level0 col2\" >Recall</th>        <th class=\"col_heading level0 col3\" >F1 score</th>    </tr>    <tr>        <th class=\"index_name level0\" >Model</th>        <th class=\"blank\" ></th>        <th class=\"blank\" ></th>        <th class=\"blank\" ></th>        <th class=\"blank\" ></th>    </tr></thead><tbody>\n",
              "                <tr>\n",
              "                        <th id=\"T_a8a3f02e_1a91_11ec_9eff_0242ac1c0002level0_row0\" class=\"row_heading level0 row0\" >Logistic Regression</th>\n",
              "                        <td id=\"T_a8a3f02e_1a91_11ec_9eff_0242ac1c0002row0_col0\" class=\"data row0 col0\" >0.808000</td>\n",
              "                        <td id=\"T_a8a3f02e_1a91_11ec_9eff_0242ac1c0002row0_col1\" class=\"data row0 col1\" >0.585799</td>\n",
              "                        <td id=\"T_a8a3f02e_1a91_11ec_9eff_0242ac1c0002row0_col2\" class=\"data row0 col2\" >0.194499</td>\n",
              "                        <td id=\"T_a8a3f02e_1a91_11ec_9eff_0242ac1c0002row0_col3\" class=\"data row0 col3\" >0.292035</td>\n",
              "            </tr>\n",
              "            <tr>\n",
              "                        <th id=\"T_a8a3f02e_1a91_11ec_9eff_0242ac1c0002level0_row1\" class=\"row_heading level0 row1\" >Random Forest</th>\n",
              "                        <td id=\"T_a8a3f02e_1a91_11ec_9eff_0242ac1c0002row1_col0\" class=\"data row1 col0\" >0.859600</td>\n",
              "                        <td id=\"T_a8a3f02e_1a91_11ec_9eff_0242ac1c0002row1_col1\" class=\"data row1 col1\" >0.770548</td>\n",
              "                        <td id=\"T_a8a3f02e_1a91_11ec_9eff_0242ac1c0002row1_col2\" class=\"data row1 col2\" >0.442043</td>\n",
              "                        <td id=\"T_a8a3f02e_1a91_11ec_9eff_0242ac1c0002row1_col3\" class=\"data row1 col3\" >0.561798</td>\n",
              "            </tr>\n",
              "            <tr>\n",
              "                        <th id=\"T_a8a3f02e_1a91_11ec_9eff_0242ac1c0002level0_row2\" class=\"row_heading level0 row2\" >XGBoost</th>\n",
              "                        <td id=\"T_a8a3f02e_1a91_11ec_9eff_0242ac1c0002row2_col0\" class=\"data row2 col0\" >0.846800</td>\n",
              "                        <td id=\"T_a8a3f02e_1a91_11ec_9eff_0242ac1c0002row2_col1\" class=\"data row2 col1\" >0.688623</td>\n",
              "                        <td id=\"T_a8a3f02e_1a91_11ec_9eff_0242ac1c0002row2_col2\" class=\"data row2 col2\" >0.451866</td>\n",
              "                        <td id=\"T_a8a3f02e_1a91_11ec_9eff_0242ac1c0002row2_col3\" class=\"data row2 col3\" >0.545670</td>\n",
              "            </tr>\n",
              "            <tr>\n",
              "                        <th id=\"T_a8a3f02e_1a91_11ec_9eff_0242ac1c0002level0_row3\" class=\"row_heading level0 row3\" >KNN</th>\n",
              "                        <td id=\"T_a8a3f02e_1a91_11ec_9eff_0242ac1c0002row3_col0\" class=\"data row3 col0\" >0.800400</td>\n",
              "                        <td id=\"T_a8a3f02e_1a91_11ec_9eff_0242ac1c0002row3_col1\" class=\"data row3 col1\" >0.510730</td>\n",
              "                        <td id=\"T_a8a3f02e_1a91_11ec_9eff_0242ac1c0002row3_col2\" class=\"data row3 col2\" >0.467583</td>\n",
              "                        <td id=\"T_a8a3f02e_1a91_11ec_9eff_0242ac1c0002row3_col3\" class=\"data row3 col3\" >0.488205</td>\n",
              "            </tr>\n",
              "    </tbody></table>"
            ],
            "text/plain": [
              "<pandas.io.formats.style.Styler at 0x7f9b63744910>"
            ]
          },
          "metadata": {}
        }
      ]
    },
    {
      "cell_type": "code",
      "metadata": {
        "colab": {
          "base_uri": "https://localhost:8080/",
          "height": 757
        },
        "id": "ZUTowrmRZKZH",
        "outputId": "fa904585-5da2-4c87-fc0e-93c68c545978"
      },
      "source": [
        "# Confusion matrix, accuracy, precison and recall for random forest and logistic regression\n",
        "# test on x\n",
        "confusion_matrices = [\n",
        "    (\"Logistic Regression (SMOTE)\", confusion_matrix(y_test,best_logregsm.predict(X_test))),\n",
        "    (\"Random Forest (SMOTE)\", confusion_matrix(y_test,best_rfsm.predict(X_test))),\n",
        "    (\"XGBoost (SMOTE)\", confusion_matrix(y_test, best_xgbsm.predict(X_test.values))),\n",
        "    (\"KNN (SMOTE)\", confusion_matrix(y_test, best_knnsm.predict(X_test)))\n",
        "]\n",
        "\n",
        "draw_confusion_matrices(confusion_matrices, out=True, highlight=True)"
      ],
      "execution_count": 178,
      "outputs": [
        {
          "output_type": "stream",
          "name": "stdout",
          "text": [
            "Logistic Regression (SMOTE)\n",
            "        pred_0  pred_1\n",
            "true_0    1322     669\n",
            "true_1     155     354\n",
            "Accuracy: 67.04%\n",
            "Precision: 34.60%\n",
            "Recall: 69.55%\n",
            "F1 score: 46.21%\n",
            "\n",
            "Random Forest (SMOTE)\n",
            "        pred_0  pred_1\n",
            "true_0    1677     314\n",
            "true_1     167     342\n",
            "Accuracy: 80.76%\n",
            "Precision: 52.13%\n",
            "Recall: 67.19%\n",
            "F1 score: 58.71%\n",
            "\n",
            "XGBoost (SMOTE)\n",
            "        pred_0  pred_1\n",
            "true_0    1568     423\n",
            "true_1     154     355\n",
            "Accuracy: 76.92%\n",
            "Precision: 45.63%\n",
            "Recall: 69.74%\n",
            "F1 score: 55.17%\n",
            "\n",
            "KNN (SMOTE)\n",
            "        pred_0  pred_1\n",
            "true_0    1482     509\n",
            "true_1     155     354\n",
            "Accuracy: 73.44%\n",
            "Precision: 41.02%\n",
            "Recall: 69.55%\n",
            "F1 score: 51.60%\n",
            "\n"
          ]
        },
        {
          "output_type": "display_data",
          "data": {
            "text/html": [
              "<style  type=\"text/css\" >\n",
              "#T_40a39c18_1a96_11ec_9eff_0242ac1c0002row1_col0,#T_40a39c18_1a96_11ec_9eff_0242ac1c0002row1_col1,#T_40a39c18_1a96_11ec_9eff_0242ac1c0002row1_col3,#T_40a39c18_1a96_11ec_9eff_0242ac1c0002row2_col2{\n",
              "            background-color:  yellow;\n",
              "        }</style><table id=\"T_40a39c18_1a96_11ec_9eff_0242ac1c0002\" ><thead>    <tr>        <th class=\"blank level0\" ></th>        <th class=\"col_heading level0 col0\" >Accuracy</th>        <th class=\"col_heading level0 col1\" >Precision</th>        <th class=\"col_heading level0 col2\" >Recall</th>        <th class=\"col_heading level0 col3\" >F1 score</th>    </tr>    <tr>        <th class=\"index_name level0\" >Model</th>        <th class=\"blank\" ></th>        <th class=\"blank\" ></th>        <th class=\"blank\" ></th>        <th class=\"blank\" ></th>    </tr></thead><tbody>\n",
              "                <tr>\n",
              "                        <th id=\"T_40a39c18_1a96_11ec_9eff_0242ac1c0002level0_row0\" class=\"row_heading level0 row0\" >Logistic Regression (SMOTE)</th>\n",
              "                        <td id=\"T_40a39c18_1a96_11ec_9eff_0242ac1c0002row0_col0\" class=\"data row0 col0\" >0.670400</td>\n",
              "                        <td id=\"T_40a39c18_1a96_11ec_9eff_0242ac1c0002row0_col1\" class=\"data row0 col1\" >0.346041</td>\n",
              "                        <td id=\"T_40a39c18_1a96_11ec_9eff_0242ac1c0002row0_col2\" class=\"data row0 col2\" >0.695481</td>\n",
              "                        <td id=\"T_40a39c18_1a96_11ec_9eff_0242ac1c0002row0_col3\" class=\"data row0 col3\" >0.462141</td>\n",
              "            </tr>\n",
              "            <tr>\n",
              "                        <th id=\"T_40a39c18_1a96_11ec_9eff_0242ac1c0002level0_row1\" class=\"row_heading level0 row1\" >Random Forest (SMOTE)</th>\n",
              "                        <td id=\"T_40a39c18_1a96_11ec_9eff_0242ac1c0002row1_col0\" class=\"data row1 col0\" >0.807600</td>\n",
              "                        <td id=\"T_40a39c18_1a96_11ec_9eff_0242ac1c0002row1_col1\" class=\"data row1 col1\" >0.521341</td>\n",
              "                        <td id=\"T_40a39c18_1a96_11ec_9eff_0242ac1c0002row1_col2\" class=\"data row1 col2\" >0.671906</td>\n",
              "                        <td id=\"T_40a39c18_1a96_11ec_9eff_0242ac1c0002row1_col3\" class=\"data row1 col3\" >0.587124</td>\n",
              "            </tr>\n",
              "            <tr>\n",
              "                        <th id=\"T_40a39c18_1a96_11ec_9eff_0242ac1c0002level0_row2\" class=\"row_heading level0 row2\" >XGBoost (SMOTE)</th>\n",
              "                        <td id=\"T_40a39c18_1a96_11ec_9eff_0242ac1c0002row2_col0\" class=\"data row2 col0\" >0.769200</td>\n",
              "                        <td id=\"T_40a39c18_1a96_11ec_9eff_0242ac1c0002row2_col1\" class=\"data row2 col1\" >0.456298</td>\n",
              "                        <td id=\"T_40a39c18_1a96_11ec_9eff_0242ac1c0002row2_col2\" class=\"data row2 col2\" >0.697446</td>\n",
              "                        <td id=\"T_40a39c18_1a96_11ec_9eff_0242ac1c0002row2_col3\" class=\"data row2 col3\" >0.551671</td>\n",
              "            </tr>\n",
              "            <tr>\n",
              "                        <th id=\"T_40a39c18_1a96_11ec_9eff_0242ac1c0002level0_row3\" class=\"row_heading level0 row3\" >KNN (SMOTE)</th>\n",
              "                        <td id=\"T_40a39c18_1a96_11ec_9eff_0242ac1c0002row3_col0\" class=\"data row3 col0\" >0.734400</td>\n",
              "                        <td id=\"T_40a39c18_1a96_11ec_9eff_0242ac1c0002row3_col1\" class=\"data row3 col1\" >0.410197</td>\n",
              "                        <td id=\"T_40a39c18_1a96_11ec_9eff_0242ac1c0002row3_col2\" class=\"data row3 col2\" >0.695481</td>\n",
              "                        <td id=\"T_40a39c18_1a96_11ec_9eff_0242ac1c0002row3_col3\" class=\"data row3 col3\" >0.516035</td>\n",
              "            </tr>\n",
              "    </tbody></table>"
            ],
            "text/plain": [
              "<pandas.io.formats.style.Styler at 0x7f9b62ecbc10>"
            ]
          },
          "metadata": {}
        }
      ]
    },
    {
      "cell_type": "markdown",
      "metadata": {
        "id": "ltmjtskIpeYk"
      },
      "source": [
        "Since SMOTE models has much better performance, we only compare optimal models by SMOTE here.  \n",
        "We can see that XGBoost has the highest recall on test set of 69.74%, but KNN and Logistic are also doing quite well on recall score.   \n",
        "Random Forest is a bit losing on recall score, but it outperforms other models with larger advantages on all three other metrics. XGBoost comes as second places on the other metrics.   \n",
        "Therefore, I suggest to choose Random Forest or XGBoost as the best model. I prefer XGBoost here.\n"
      ]
    },
    {
      "cell_type": "markdown",
      "metadata": {
        "id": "JAQbW04XrLjg"
      },
      "source": [
        "<a name=\"part5\"></a>\n",
        "#Part 5 Feature Importance Discussion\n",
        "For the models that have done better in predicting customer churn, we can derive their feature importances and believe that the contributing features in these model are more likely to reveal top factors that influence customer churn.\n",
        "\n",
        "Although I just mentioned a preference on XGBoost (SMOTE) model in the previous part, I will compare the sets of feature importances derived from other models (except KNN) for a validation purpose, so that the final factors is something general and not specific for only one model.\n"
      ]
    },
    {
      "cell_type": "markdown",
      "metadata": {
        "id": "dKdjmB--soKM"
      },
      "source": [
        "## XGBoost"
      ]
    },
    {
      "cell_type": "code",
      "metadata": {
        "colab": {
          "base_uri": "https://localhost:8080/",
          "height": 281
        },
        "id": "m7INjLKppjNR",
        "outputId": "9f585357-970c-4f36-d966-dd7fdde948a9"
      },
      "source": [
        "importances = best_xgbsm.named_steps['model'].feature_importances_\n",
        "indices = np.argsort(importances)[::]\n",
        "#plot feature ranking\n",
        "feature_name = X_train.columns.values\n",
        "plt.barh(feature_name[indices[:X_train.shape[1]]], importances[indices[:X_train.shape[1]]])\n",
        "plt.title('Feature importances ranking of XGBoost (SMOTE)')\n",
        "plt.show()"
      ],
      "execution_count": 192,
      "outputs": [
        {
          "output_type": "display_data",
          "data": {
            "image/png": "[encoded data removed]",
            "text/plain": [
              "<Figure size 432x288 with 1 Axes>"
            ]
          },
          "metadata": {
            "needs_background": "light"
          }
        }
      ]
    },
    {
      "cell_type": "code",
      "metadata": {
        "colab": {
          "base_uri": "https://localhost:8080/"
        },
        "id": "EKD06pCNrios",
        "outputId": "0720c8dc-3e35-46ce-f77b-c668da5532b0"
      },
      "source": [
        "# Print the feature ranking\n",
        "print(\"Feature importance ranking of XGBoost Model(SMOTE):\")\n",
        "for ind in range(X_train.shape[1]):\n",
        "  print (\" - {0} : {1}\".format(X_train.columns[indices[::-1][ind]],round(best_xgbsm.named_steps['model'].feature_importances_[indices[::-1][ind]], 4)))"
      ],
      "execution_count": 195,
      "outputs": [
        {
          "output_type": "stream",
          "name": "stdout",
          "text": [
            "Feature importance ranking of XGBoost Model(SMOTE):\n",
            " - Age : 0.3384999930858612\n",
            " - NumOfProducts : 0.1851000040769577\n",
            " - Gender : 0.17880000174045563\n",
            " - Geography_Germany : 0.17820000648498535\n",
            " - IsActiveMember : 0.11940000206232071\n",
            " - Geography_Spain : 0.0\n",
            " - Geography_France : 0.0\n",
            " - EstimatedSalary : 0.0\n",
            " - HasCrCard : 0.0\n",
            " - Balance : 0.0\n",
            " - Tenure : 0.0\n",
            " - CreditScore : 0.0\n"
          ]
        }
      ]
    },
    {
      "cell_type": "markdown",
      "metadata": {
        "id": "RpQkraUctuWi"
      },
      "source": [
        "We can see that only five features are useful in XGBoost, which are **Age, NumOfProducts, Gender, Geography_Germany**, and **IsActiveMember** in descending order.  \n",
        "\n",
        "The effect of Age is about twice of that of NumOfProducts, Gender, Geography_Germany, and about three times more than that of IsActiveMember.  \n",
        "\n"
      ]
    },
    {
      "cell_type": "markdown",
      "metadata": {
        "id": "7OTUY7JZskHh"
      },
      "source": [
        "## Random Forests"
      ]
    },
    {
      "cell_type": "code",
      "metadata": {
        "colab": {
          "base_uri": "https://localhost:8080/",
          "height": 281
        },
        "id": "vYwQ168zpO3H",
        "outputId": "ab1740c1-b935-4153-a767-e84b101e5d7c"
      },
      "source": [
        "importances = best_rfsm.named_steps['model'].feature_importances_\n",
        "indices = np.argsort(importances)[::]\n",
        "#plot feature ranking\n",
        "feature_name = X_train.columns.values\n",
        "plt.barh(feature_name[indices[:X_train.shape[1]]], importances[indices[:X_train.shape[1]]])\n",
        "plt.title('Feature importance ranking of Random Forest (SMOTE)')\n",
        "plt.show()"
      ],
      "execution_count": 199,
      "outputs": [
        {
          "output_type": "display_data",
          "data": {
            "image/png": "[encoded data removed]",
            "text/plain": [
              "<Figure size 432x288 with 1 Axes>"
            ]
          },
          "metadata": {
            "needs_background": "light"
          }
        }
      ]
    },
    {
      "cell_type": "code",
      "metadata": {
        "colab": {
          "base_uri": "https://localhost:8080/"
        },
        "id": "XPf9hO-QrLDM",
        "outputId": "fa5a3945-d4f4-4af8-e373-3f37b57ebfae"
      },
      "source": [
        "# Print the feature ranking\n",
        "print(\"Feature importance ranking of Random Forest Model (SMOTE):\")\n",
        "for ind in range(X_train.shape[1]):\n",
        "  print (\" - {0} : {1}\".format(X_train.columns[indices[::-1][ind]],round(best_rfsm.named_steps['model'].feature_importances_[indices[::-1][ind]], 4)))"
      ],
      "execution_count": 200,
      "outputs": [
        {
          "output_type": "stream",
          "name": "stdout",
          "text": [
            "Feature importance ranking of Random Forest Model (SMOTE):\n",
            " - Age : 0.3822\n",
            " - NumOfProducts : 0.2314\n",
            " - Gender : 0.1195\n",
            " - Geography_Germany : 0.092\n",
            " - IsActiveMember : 0.0491\n",
            " - Balance : 0.0445\n",
            " - Geography_France : 0.0401\n",
            " - Geography_Spain : 0.0202\n",
            " - Tenure : 0.0105\n",
            " - EstimatedSalary : 0.0062\n",
            " - CreditScore : 0.0039\n",
            " - HasCrCard : 0.0003\n"
          ]
        }
      ]
    },
    {
      "cell_type": "markdown",
      "metadata": {
        "id": "IbD8Q6mkvKlH"
      },
      "source": [
        "We can see that the five most important features in the Random Forest model are the same as XGBoost, which are **Age, NumOfProducts, Gender, Geography_Germany**, and **IsActiveMember** in exactly the same order. \n",
        " \n",
        "The effect of Age is about 1.65 times more than that of NumOfProducts, which is about two times more than that of the third-place Gender.  \n",
        "Gender and Geography_Germany are similar in scale and both are around two times more than that of IsActiveMember, Balance, and Geography_France.\n",
        "\n"
      ]
    },
    {
      "cell_type": "markdown",
      "metadata": {
        "id": "zPw2RrqEsfJF"
      },
      "source": [
        "## Logistic Regression"
      ]
    },
    {
      "cell_type": "code",
      "metadata": {
        "colab": {
          "base_uri": "https://localhost:8080/"
        },
        "id": "YyvWMaFiqmlu",
        "outputId": "f8a6e602-f549-4fcf-95ea-3fb4a0001501"
      },
      "source": [
        "indices = np.argsort(abs(best_logregsm.named_steps['model'].coef_[0]))[::-1]\n",
        "print (\"Logistic Regression (SMOTE) Coefficients Ranking\")\n",
        "for ind in range(X_train.shape[1]):\n",
        "  print (\"{0} : {1}\".format(X_train.columns[indices[ind]],round(best_logregsm.named_steps['model'].coef_[0][indices[ind]], 4)))"
      ],
      "execution_count": 203,
      "outputs": [
        {
          "output_type": "stream",
          "name": "stdout",
          "text": [
            "Logistic Regression (SMOTE) Coefficients Ranking\n",
            "Age : 0.3931\n",
            "IsActiveMember : -0.0256\n",
            "Geography_Spain : 0.0\n",
            "Geography_Germany : 0.0\n",
            "Geography_France : 0.0\n",
            "EstimatedSalary : 0.0\n",
            "HasCrCard : 0.0\n",
            "NumOfProducts : 0.0\n",
            "Balance : 0.0\n",
            "Tenure : 0.0\n",
            "Gender : 0.0\n",
            "CreditScore : 0.0\n"
          ]
        }
      ]
    },
    {
      "cell_type": "markdown",
      "metadata": {
        "id": "KFBh-0ufxLSw"
      },
      "source": [
        "Logistic Regression Model (SMOTE) only use two features: **Age** and **IsActiveMember**, with effect of Age is over 15 times more than that of IsActiveMember (remember our data has been standardized, and therefore we can compare the absolute value of coeffiecients directly).  \n"
      ]
    },
    {
      "cell_type": "markdown",
      "metadata": {
        "id": "Cu1nUtrQrRdJ"
      },
      "source": [
        "<a name=\"part6\"></a>\n",
        "# Part 6 Conclusion"
      ]
    },
    {
      "cell_type": "markdown",
      "metadata": {
        "id": "OC_42zkwyNbk"
      },
      "source": [
        "Thank you for going through all the previous part! :)  \n",
        "Here's a summary of methodologies and findings:\n",
        "\n",
        "- Main methods applied:\n",
        "    - Stratified sampling (for imbalanced data)\n",
        "    - SMOTE (for imbalanced data)\n",
        "    - Classfication Models: Logistic Regression, Random Forest, XGBoost and KNN\n",
        "    - Use recall as the most suitable metric for optimizing\n",
        "- Main tasks achieved:\n",
        "    - Preprocessed dataset by removing duplicates, splitting imbalanced data by stratified sampling, encoding categorical feature and standardizaion\n",
        "    - Trained, tuned and evaluated classification models with grid search, applied regularization with optimal parameters to overcome overfitting and handled imbalanced classification by SMOTE\n",
        "    - Selected best model based on recall, achieved best recall of 69.74% with XGBoost, which improved baseline model by 46%\n",
        "    - Derived feature importance and identified the top factors that influenced the results \n",
        "- Main findings:\n",
        "    - Based on feature importances on optimal models, we found 5 top factors that influenced most in customer churn: \n",
        "    1. Age is the most important feature, followed by NumOfProducts, Gender, Geography_Germany and IsActiveMember. The effect of Age is about twice of that of NumOfProducts.   \n",
        "    Age with a positive coeffcient means **the older customer are more likely to churn**.\n",
        "    2. NumOfProducts: from EDA, we can see some exited customers have used as many as four products, which implies **the more products they use, the more likely for them to churn**.\n",
        "    3. Gender: the remained havs more male than female, while the exited has more Female, which implies **female might be more likely to churn**. \n",
        "    4. Geography_Germany: the **customers from Germany** share a larger portion in the exited customers than the remained, which implies they are more likely to churn compared with customer from France and Spain.\n",
        "    5. IsActiveMember: from distribution we noticed that the exited has more non active member while the remained has more active ones, which implies **non active members are more likely to churn**.\n"
      ]
    },
    {
      "cell_type": "markdown",
      "metadata": {
        "id": "gKEymEqiBcxy"
      },
      "source": [
        "<a name=\"part6-suggest\"></a>\n",
        "- Main suggestions:\n",
        "    - Older customer churn means we failed to serve them well with current product. **Analyzing the need and expectation of older people** and developing more **targeted functions** may help retain them.\n",
        "    - Churn customer tend to use more products, which implies they are actively comparing among these products and select the most suitable for them. Need further **investigation on market share** and **competitor stands** to better understand the situation.  \n",
        "    - Gender may imply different expectations from female than male when it comes to financial product. For example, maybe female are **more sensitive to seasonal discounts**, or **special promotion** related to fashion, grocery, cosmetics, etc. will be attractive to them. Further analysis is required and bank can try cooperate more with such companies or adjust strategies accordingly.\n",
        "    - Geography may imply problem related to **government policies/regulations**, or **powerful local competitors**. Need to research on what's special about Germany to decide on next steps.\n",
        "    - Active member: try encourage customers to **engage more on the product**, like update seasonal promotions regularly, enroll in a point rewards program, or more exposure on social media."
      ]
    },
    {
      "cell_type": "code",
      "metadata": {
        "id": "B33d7_BoCbT6"
      },
      "source": [
        ""
      ],
      "execution_count": null,
      "outputs": []
    }
  ]
}